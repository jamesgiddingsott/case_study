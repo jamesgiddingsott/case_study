{
  "nbformat": 4,
  "nbformat_minor": 0,
  "metadata": {
    "colab": {
      "provenance": [],
      "toc_visible": true,
      "include_colab_link": true
    },
    "kernelspec": {
      "name": "python3",
      "display_name": "Python 3"
    },
    "language_info": {
      "name": "python"
    }
  },
  "cells": [
    {
      "cell_type": "markdown",
      "metadata": {
        "id": "view-in-github",
        "colab_type": "text"
      },
      "source": [
        "<a href=\"https://colab.research.google.com/github/jamesgiddingsott/case_study/blob/main/casestudy_0_1_forms.ipynb\" target=\"_parent\"><img src=\"https://colab.research.google.com/assets/colab-badge.svg\" alt=\"Open In Colab\"/></a>"
      ]
    },
    {
      "cell_type": "markdown",
      "source": [
        "\n",
        "#Emeco Recruitment Case Study\n"
      ],
      "metadata": {
        "id": "dDOamBSoJXVx"
      }
    },
    {
      "cell_type": "markdown",
      "source": [
        "\n",
        "## Description as Given\n",
        "\n",
        "Topic:\n",
        "Inventory Optimisation\n",
        "\n",
        "Background:\n",
        "Emeco holds rotable stock in our warehouses for planned and unplanned maintenance on our rental equipment.\n",
        "\n",
        "The purpose of this case study is to determine, using the mock parameters provided below, the ideal level of stock required to support our fleet, while maximizing our return on capital. While holding an infinite number of components on the shelf would satisfy every foreseeable maintenance requirement, the components would not be utilized enough to justify the growing cost required to source and hold these components.\n",
        "\n",
        "Objectives:\n",
        "\n",
        "\n",
        "1)\tDetermine the recommended level of rotable stock required to fulfil 80% of demand in the 2023/24 financial year, while achieving 30% return on capital.\n",
        "\n",
        "\n",
        "2)\tDetermine the average inventory balance over the 2023/24 financial year.\n",
        "\n",
        "Required Inputs/Parameters:\n",
        "Item Type – Transmission\n",
        "\n",
        "Planned Demand:\n",
        "* July 2023\n",
        "* August 2023\n",
        "*\tAugust 2023\n",
        "*\tOctober 2023\n",
        "*\tNovember 2023\n",
        "*\tJanuary 2024\n",
        "*\tJanuary 2024\n",
        "*\tFebruary 2024\n",
        "*\tMarch 2024\n",
        "*\tApril 2024\n",
        "*\tApril 2024\n",
        "*\tJune 2024\n",
        "\n",
        "<br>\n",
        "\n",
        "Unplanned Demand: on average, one every 50 days\n",
        "\n",
        "Distribution of Rental Equipment:  40% WA, 40% QLD, 20% NSW\n",
        "\n",
        "Cost of Non-Rebuilt Stock: 1\n",
        "\n",
        "Cost of Rebuilding Rotable Stock: 50,000 (saving 5,000)\n",
        "\n",
        "\n",
        "Cost of Sourcing Stock from External Supplier (if inventory is unavailable): 55,000\n",
        "\n",
        "Time to Rebuild Rotable Stock: ranges from 36-56 days\n",
        "\n",
        "Time to Transit Rotable Stock to/from Site for Demand: ranges from 21-35 days\n",
        "<br></br>\n",
        "\n",
        "\n",
        "\n"
      ],
      "metadata": {
        "id": "_HD91k7K6Yjc"
      }
    },
    {
      "cell_type": "markdown",
      "source": [
        "## ASSUMPTIONS\n",
        "\n",
        "* Primary assumption is that the case study is to explore problem set using Python with associated visualizations to derive a solution in a way that can be clearly expressed to analytics team members and business decision makers.\n",
        "* Delilvery dates are on the first day of the month or second day of the month if there are more than one deliveries in a month.\n",
        "* Unplanned Demand represents failure or needed replacement of hardware already in the field, therefore currently existing field units is an arbitrary UNKNOWN amount.\n",
        "* As parts are shipped out, there should be a part coming back into the facility for refurbishment.\n",
        "* The parts, being rotable, are able to be refurbished as they come in to the facility, once repaired they can go back to out to the field when needed or stored on shelf / forward staged.\n",
        "* Using Max Times on travel + refurbishment lead times used, biz case is better to have extra units than not enough to a limit as assuming customer can not have rental units down for extended periods (i.e. 35 days waiting on a part to arrive).\n",
        "* Using 35 days EACH WAY to and from the field to for rotable and 35 days for shipping stock parts for planned demand.\n",
        "* Mean Time Between Failure should be some randomized process, probably Poisson + Exponential distributions for amount of failures and inter-failure time gaps since only the mean failure rate is given for unplanned demand.\n",
        "* Due to lead shipping times potentially beginning longer than the first delivery date, units need to ship in the previous year but are counted in THIS year?  Would need clarification from accounting personnel.\n",
        "* Due to the above assumption the simulation actually begins calculating part demand ~ -35 days prior to 23/24 fiscal year to make sure delivery on 1/7/23 is possible\n",
        "* Naive assumption is base rotable inventory should be: (total demand / 2), to account for refurbished product returning to the field filling planned or unplanned demand.\n",
        "\n"
      ],
      "metadata": {
        "id": "nIPyJHBBCH-Q"
      }
    },
    {
      "cell_type": "markdown",
      "source": [
        "## Notes\n",
        "---\n",
        "1.  for a primer on stock management with considerations to lead times and safety stock.  https://web.mit.edu/2.810/www/files/readings/King_SafetyStock.pdf  \n",
        "\n",
        "\n",
        "2.  Note: The critical value was found using a z-table. For z*, the sample size is not needed to pick a critical value, but for t*, the critical value changes depending on the sample size. A portion of the z-table is listed below with the part needed for our problem highlighted:\n",
        "Confidence Level\tz* Value\n",
        "80%\t1.28\n",
        "85%\t1.44\n",
        "90%\t1.64\n",
        "95%\t1.96\n",
        "98%\t2.33\n",
        "99%\t2.58\n",
        "SOURCE:  https://www.stats4stem.org/introduction-to-confidence-intervals#:~:text=The%20value%20is%20determined%20by,99%25%20confidence%20level%20is%202.58.*italicized text*"
      ],
      "metadata": {
        "id": "SxB1DNHyJmCc"
      }
    },
    {
      "cell_type": "markdown",
      "source": [
        "#Packages and Imports"
      ],
      "metadata": {
        "id": "31_i6Zo10TvX"
      }
    },
    {
      "cell_type": "code",
      "execution_count": 1,
      "metadata": {
        "id": "1S1UTpzN0Itg"
      },
      "outputs": [],
      "source": [
        "import numpy as np\n",
        "import pandas as pd\n",
        "from datetime import datetime as dt\n",
        "from scipy.interpolate import CubicSpline\n",
        "\n",
        "import matplotlib.pyplot as plt\n",
        "import seaborn as sns\n"
      ]
    },
    {
      "cell_type": "markdown",
      "source": [
        "#MIT Method (Naive Method)\n",
        "\n",
        "**Based on the following LINKS:**  \n",
        "* https://web.mit.edu/2.810/www/files/readings/King_SafetyStock.pdf\n",
        "* https://www.youtube.com/watch?v=p40SxvWFQ_A&t=1300s"
      ],
      "metadata": {
        "id": "cyiqnFWUGX5G"
      }
    },
    {
      "cell_type": "markdown",
      "source": [
        "<b>SAFETY STOCK</b> \n",
        "\n",
        "\n",
        "METHOD_3 = Z * DEMAND_STD * SQRT(AVG_LEAD_TIME), Uncertainty with demand\n",
        "\n",
        "\n",
        "METHOD_4 = Z * AVG_SALES * LEAD_TIME_STD, Uncertainty on Lead time\n",
        "\n",
        "METHOD_5 = Z * SQRT(AVG_LEAD_TIME * (DEMAND_STD^2)) + (AVG_SALES * (LEAD_TIME_STD^2))\n",
        "\n",
        "METHOD_6 = Z * DEMAND_STD * SQRT(AVG_LEAD_TIME) + Z * AVG_SALES * LEAD_TIME_STD"
      ],
      "metadata": {
        "id": "vFyfFpoyF4bK"
      }
    },
    {
      "cell_type": "code",
      "source": [
        "#%%capture --no-display\n",
        "\n",
        "samples = 10000  #num of times to sample distribution can chhange for speed\n",
        "\n",
        "x = (np.random.poisson((1),size = samples))  #poisson sample dist \n",
        "\n",
        "# plt.hist(x, bins = 8)  # check shape\n",
        "\n",
        "# sums all samples above 1 event per 50 days and gives pct chance it happens\n",
        "demand_var = (np.sum(x > 1) / samples)\n",
        "\n",
        "\n",
        "\n",
        "# Calc LEAD TIMES\n",
        "\n",
        "tat_times = [36,56]\n",
        "ship_times = [21,35]\n",
        "\n",
        "tat_avg = (tat_times[0] + tat_times[1])/2\n",
        "\n",
        "\n",
        "tat_max = tat_times[1]\n",
        "\n",
        "ship_avg = (ship_times[0] + ship_times[1]) / 2\n",
        "\n",
        "\n",
        "lead_avg = ship_avg + tat_avg\n",
        "\n",
        "\n",
        "ship_max = ship_times[1]\n",
        "\n",
        "lead_max = ship_max + tat_max\n",
        "\n",
        "planned_demand = 12\n",
        "unplanned_demand = (365/50)\n",
        "total_demand = planned_demand + unplanned_demand\n",
        "rot_inv_naive = (total_demand / 2)\n",
        "\n"
      ],
      "metadata": {
        "id": "oHz_2zZpQBdv"
      },
      "execution_count": 2,
      "outputs": []
    },
    {
      "cell_type": "markdown",
      "source": [
        "### Safety Stock Calculation"
      ],
      "metadata": {
        "id": "x7iEyomwhVU1"
      }
    },
    {
      "cell_type": "code",
      "source": [
        "# SAFETY STOCK CALCULATION\n",
        "#----------------------------------*\n",
        "\n",
        "\n",
        "\n",
        "# the demand_var number is the sum of all increments in the poisson distribution above \n",
        "\n",
        "# METHOD 3safety stock calc\n",
        "# Z * sqrt(avg lead time / 365 days * .25 variability factor * rot inv)\n",
        "\n",
        "Z=  {80:.85, 90:1.28, 100:4.09}  # from Z-score table\n",
        "\n",
        "\n",
        "alpha = 80  #Select the area under the curve one wants to satisfy\n",
        "\n",
        "s_stock = Z[alpha]* np.sqrt(lead_avg / 365 * rot_inv_naive * demand_var)\n",
        "\n",
        "s_stock_max= Z[alpha] * np.sqrt(lead_max / 365 * rot_inv_naive * demand_var)\n",
        "\n",
        "\n",
        "#----------------------------------*\n",
        "\n",
        "total_inventory = (s_stock + rot_inv_naive)\n",
        "total_inventory_max = (s_stock_max + rot_inv_naive)\n",
        "\n",
        "\n",
        "\n",
        "# can we figure out what inital on shelf new inventory min needs to be???\n",
        "#print(\"\\nmax lead time intervals per year:\", 365 / lead_max)\n",
        "#print(\"\\ninitial inventory:\", np.ceil(total_inventory) / (365/lead_max))\n",
        "\n",
        "\n"
      ],
      "metadata": {
        "id": "egEnn2iBhMrN"
      },
      "execution_count": 3,
      "outputs": []
    },
    {
      "cell_type": "code",
      "source": [
        "#@title Naive Results\n",
        "\n",
        "# RESULTS\n",
        "\n",
        "\n",
        "print(\"\\n\\ndemand variability > 1 / 50 days:\", round(demand_var,3))\n",
        "\n",
        "print(\"\\n\\nrefurbish time avg:\",tat_avg)\n",
        "\n",
        "print(\"ship time avg\",ship_avg)\n",
        "\n",
        "print(\"avg lead time:\", lead_avg)\n",
        "\n",
        "print(\"\\n\", \"--\" * 4, \"\\n\" *2)\n",
        "\n",
        "print(\"\\nplanned: {}, unplanned: {}\".format(planned_demand,unplanned_demand))\n",
        "\n",
        "print(\"\\ntotal demand:\", total_demand)\n",
        "\n",
        "print(\"\\n[Naive assumption is base rotable inventory should be: total demand / 2, to account for refurbished product returning to the field ]\")\n",
        "\n",
        "print(\"\\nbase level rotable inventory:\", rot_inv_naive)\n",
        "\n",
        "print(\"\\nInventory level for 80% of demand using safety stock calculation is Z score of .85 via formula:  Z * sqrt(avg lead time * rot inv * demand variability factor of ~25%)\\n \")\n",
        "\n",
        "print(\"confidence: {}%\".format(alpha))\n",
        "\n",
        "print(\"\\nsafety stock:\", round(s_stock,2))\n",
        "\n",
        "print(\"safety stock max:\", round(s_stock_max,2))\n",
        "\n",
        "print(\"\\n\\ntotal needed inventory for 80% demand: \", round(total_inventory,2))\n",
        "\n",
        "print(\"\\n\\ntotal needed inventory for 80% demand: \", round(total_inventory_max,2))\n",
        "\n",
        "print(\"\\nround up:\", np.ceil(total_inventory))\n"
      ],
      "metadata": {
        "colab": {
          "base_uri": "https://localhost:8080/"
        },
        "cellView": "form",
        "id": "gEPjeO2hQH0d",
        "outputId": "cf1de309-3a43-4ea7-9d8d-5add6b332750"
      },
      "execution_count": 4,
      "outputs": [
        {
          "output_type": "stream",
          "name": "stdout",
          "text": [
            "\n",
            "\n",
            "demand variability > 1 / 50 days: 0.26\n",
            "\n",
            "\n",
            "refurbish time avg: 46.0\n",
            "ship time avg 28.0\n",
            "avg lead time: 74.0\n",
            "\n",
            " -------- \n",
            "\n",
            "\n",
            "\n",
            "planned: 12, unplanned: 7.3\n",
            "\n",
            "total demand: 19.3\n",
            "\n",
            "[Naive assumption is base rotable inventory should be: total demand / 2, to account for refurbished product returning to the field ]\n",
            "\n",
            "base level rotable inventory: 9.65\n",
            "\n",
            "Inventory level for 80% of demand using safety stock calculation is Z score of .85 via formula:  Z * sqrt(avg lead time * rot inv * demand variability factor of ~25%)\n",
            " \n",
            "confidence: 80%\n",
            "\n",
            "safety stock: 0.61\n",
            "safety stock max: 0.67\n",
            "\n",
            "\n",
            "total needed inventory for 80% demand:  10.26\n",
            "\n",
            "\n",
            "total needed inventory for 80% demand:  10.32\n",
            "\n",
            "round up: 11.0\n"
          ]
        }
      ]
    },
    {
      "cell_type": "markdown",
      "source": [
        "# Poisson Distribution for Unplanned Demand\n",
        "---\n",
        "\n",
        "ref:  https://numpy.org/doc/stable/reference/random/generated/numpy.random.poisson.html\n",
        "\n",
        "---\n",
        "* Only given mean unplanned demand rate with no distribution, using Poisson to simulate random events\n",
        "* Running Poisson distribution, lamda 50, to select random unplanned demand intervals for the simulation\n",
        "* Using inverse CDF from exponential distribution to calculate the unplanned demand cycle days, hand coded for speed.  Using scipy.stats was really slow and couldn't find similar functionality in numpy, equations derived from following two blog posts.\n",
        "* https://towardsdatascience.com/gamma-distribution-intuition-derivation-and-examples-55f407423840\n",
        "* https://timeseriesreasoning.com/contents/poisson-process/"
      ],
      "metadata": {
        "id": "qjbwd46ERD4p"
      }
    },
    {
      "cell_type": "code",
      "source": [
        "# Poisson Distribution and plot\n",
        "\n",
        "# Number of events and associated occurances based on Poisson dist\n",
        "\n",
        "s = np.random.poisson(1, 1000)\n",
        "plt.hist(s, bins=50)\n",
        "plt.show()"
      ],
      "metadata": {
        "colab": {
          "base_uri": "https://localhost:8080/",
          "height": 265
        },
        "id": "LEFad2ZURMYZ",
        "outputId": "b0ba3c5d-abd0-4b2b-9e79-5a9c50a92ac7"
      },
      "execution_count": 5,
      "outputs": [
        {
          "output_type": "display_data",
          "data": {
            "text/plain": [
              "<Figure size 432x288 with 1 Axes>"
            ],
            "image/png": "[encoded data removed]"
          },
          "metadata": {
            "needs_background": "light"
          }
        }
      ]
    },
    {
      "cell_type": "code",
      "source": [
        "s_e = np.random.exponential(1/50, 1000)\n",
        "plt.hist(s_e, bins=50)\n",
        "plt.show()"
      ],
      "metadata": {
        "colab": {
          "base_uri": "https://localhost:8080/",
          "height": 265
        },
        "id": "4ilZwdq2d0n2",
        "outputId": "892cfa74-364b-4ebe-ab7c-be476eb3e4fd"
      },
      "execution_count": 6,
      "outputs": [
        {
          "output_type": "display_data",
          "data": {
            "text/plain": [
              "<Figure size 432x288 with 1 Axes>"
            ],
            "image/png": "[encoded data removed]"
          },
          "metadata": {
            "needs_background": "light"
          }
        }
      ]
    },
    {
      "cell_type": "code",
      "source": [
        "s_g = [np.random.gamma(25,2, 1000)]\n",
        "plt.hist(s_g, bins=25)\n",
        "plt.show()"
      ],
      "metadata": {
        "id": "dGRalD92RMno",
        "colab": {
          "base_uri": "https://localhost:8080/",
          "height": 265
        },
        "outputId": "abce24bb-0af0-4a2f-836f-a1cae25abd9e"
      },
      "execution_count": 7,
      "outputs": [
        {
          "output_type": "display_data",
          "data": {
            "text/plain": [
              "<Figure size 432x288 with 1 Axes>"
            ],
            "image/png": "[encoded data removed]"
          },
          "metadata": {
            "needs_background": "light"
          }
        }
      ]
    },
    {
      "cell_type": "code",
      "source": [
        "# This distribution gives more stable days for unplanned, used for testing\n",
        "\n",
        "s_n = np.random.normal(50,7.5,10000)\n",
        "plt.hist(s_n, bins=50)\n",
        "plt.show()"
      ],
      "metadata": {
        "colab": {
          "base_uri": "https://localhost:8080/",
          "height": 265
        },
        "id": "oHYmplWBqfIA",
        "outputId": "4bfd0df9-1d94-44e6-c5ad-0c78bddfa67e"
      },
      "execution_count": 8,
      "outputs": [
        {
          "output_type": "display_data",
          "data": {
            "text/plain": [
              "<Figure size 432x288 with 1 Axes>"
            ],
            "image/png": "[encoded data removed]"
          },
          "metadata": {
            "needs_background": "light"
          }
        }
      ]
    },
    {
      "cell_type": "markdown",
      "source": [
        "# Via SIMULATION"
      ],
      "metadata": {
        "id": "7GCtk9GDkw4k"
      }
    },
    {
      "cell_type": "markdown",
      "source": [
        "### Planned Dates"
      ],
      "metadata": {
        "id": "4VzAjZqblWZd"
      }
    },
    {
      "cell_type": "code",
      "source": [
        "planned_demand_dates = [\n",
        "    '7/1/2023',\n",
        "    '8/1/2023',\n",
        "    '8/1/2023',\n",
        "    '10/1/2023',\n",
        "    '11/1/2023',\n",
        "    '1/1/2024',\n",
        "    '1/1/2024',\n",
        "    '2/1/2024',\n",
        "    '3/1/2024',\n",
        "    '4/1/2024',\n",
        "    '4/1/2024',\n",
        "    '6/1/2024'\n",
        "]"
      ],
      "metadata": {
        "id": "MObCWQIgkwIq"
      },
      "execution_count": 9,
      "outputs": []
    },
    {
      "cell_type": "markdown",
      "source": [
        "### VARIABLES"
      ],
      "metadata": {
        "id": "e0GMy07eljUd"
      }
    },
    {
      "cell_type": "code",
      "source": [
        "tat_max = 56 # Turn around time for refurbishment, Fixed max length \n",
        "tat_min = 36\n",
        "\n",
        "ship_max =  35 # shipping time out from facility to customer, max length\n",
        "ship_min = 21\n",
        "\n",
        "d_avg_unplanned = 50"
      ],
      "metadata": {
        "id": "Am5YOSHTloeG"
      },
      "execution_count": 10,
      "outputs": []
    },
    {
      "cell_type": "markdown",
      "source": [
        "### Functions for Loop"
      ],
      "metadata": {
        "id": "dvupOai4ojol"
      }
    },
    {
      "cell_type": "code",
      "source": [
        "'''\n",
        "\n",
        "Function to remove doubles from list of integer days, \n",
        "doubles will be pushed back one day to remove calculation \n",
        "edge cases causes errors in the simulation\n",
        "\n",
        "'''\n",
        "\n",
        "\n",
        "def no_doubles(x):\n",
        "  for i in range(len(x)):\n",
        "    if i == 0:\n",
        "      pass\n",
        "    elif x[i] == x[i - 1]:\n",
        "      x[i] = x[i] + 1\n",
        "  return x"
      ],
      "metadata": {
        "id": "CZiph7a9qVBu"
      },
      "execution_count": 11,
      "outputs": []
    },
    {
      "cell_type": "code",
      "source": [
        "# Function of inverse exponential CDF to select inter arrival times for Poisson distribution\n",
        "\n",
        "def build_unplanned_days(lam, arrival_time = 0, cycles = 15):\n",
        "\n",
        "  \"\"\"\n",
        "    Simulate a Poisson process to generate a list of failure days.\n",
        "\n",
        "    Args:\n",
        "        lam (float): The rate parameter of the Poisson distribution, which determines the expected number of failures per unit time.\n",
        "        arrival_time (float, optional): The starting time for the process. Defaults to 0.\n",
        "        cycles (int, optional): The number of cycles to simulate. Defaults to 15.\n",
        "\n",
        "    Returns:\n",
        "        list: A list of failure days, represented as integers, in increasing order.\n",
        "\n",
        "    Example:\n",
        "        >>> build_unplanned_days(0.1, 0, 20)\n",
        "        [0, 5, 8, 12, 21, 31, 36, 37, 46, 50, 52, 58, 67, 71, 80, 85, 87, 93, 98]\n",
        "  \"\"\"\n",
        "\n",
        "\n",
        "  failure_days = []\n",
        "  lam = lam\n",
        "  U = np.random.uniform()\n",
        "  arrival_time = arrival_time\n",
        "\n",
        "  for i in np.arange(1, cycles):\n",
        "    U = np.random.uniform()\n",
        "    inter_arrival_time = -np.log((1.0 - U))/lam\n",
        "    arrival_time += inter_arrival_time\n",
        "    failure_days.append(int(arrival_time))\n",
        "\n",
        "  # print(failure_days)\n",
        "  avg = sum(np.diff(failure_days)) / len(failure_days)\n",
        "  # print(avg)\n",
        "  # print(failure_days)\n",
        "\n",
        "  return failure_days\n"
      ],
      "metadata": {
        "id": "v3H8aGJUn0Q8"
      },
      "execution_count": 12,
      "outputs": []
    },
    {
      "cell_type": "code",
      "source": [
        "# This will be in the loop\n",
        "\n",
        "def pre_build_schedule(demand_p, tat_min=56, tat_max=56, tat_std=0, ship_min=35, ship_max=35, ship_std = 0, \n",
        "                       d_u=50, d_std = 7.5, max_days = 365, sites = 3, site_prob = [.4,.4,.2]):\n",
        "\n",
        "  \"\"\"\n",
        "      Calculates a preliminary build schedule for a rotable stock item based on demand and lead time data.\n",
        "    \n",
        "    Parameters\n",
        "    ----------\n",
        "    demand_p : list of int, planned demand schedule in integer days\n",
        "        A list of planned demand values for the item, where each float represents the demand in a given month.\n",
        "    tat_min : int, optional\n",
        "        The minimum time it takes to rebuild a unit of the item, in days. Default is 56.\n",
        "    tat_max : int, optional\n",
        "        The maximum time it takes to rebuild a unit of the item, in days. Default is 56.\n",
        "    tat_std : float, optional\n",
        "        The standard deviation of the time it takes to rebuild a unit of the item, in days. Default is 0.\n",
        "    ship_min : int, optional\n",
        "        The minimum time it takes to ship a unit of the item to or from a site, in days. Default is 35.\n",
        "    ship_max : int, optional\n",
        "        The maximum time it takes to ship a unit of the item to or from a site, in days. Default is 35.\n",
        "    ship_std : float, optional\n",
        "        The standard deviation of the time it takes to ship a unit of the item to or from a site, in days. Default is 0.\n",
        "    d_u : int, optional\n",
        "        The average number of days between unplanned demand events for the item. Default is 50.\n",
        "    d_std : float, optional\n",
        "        The standard deviation of the number of days between unplanned demand events for the item. Default is 7.5.\n",
        "    max_days : int, optional\n",
        "        The maximum number of days to consider when calculating the preliminary build schedule. Default is 365.\n",
        "    sites : int, optional\n",
        "        The number of sites to consider when calculating the preliminary build schedule. Default is 3.\n",
        "    site_prob : list of floats, optional\n",
        "        A list of probabilities for each site, where the index of the probability corresponds to the index of the site. \n",
        "        The probabilities should add up to 1. Default is [.4, .4, .2].\n",
        "\n",
        "  \"\"\"\n",
        "\n",
        "\n",
        "  # # Use this code to generate unplanned days based on normal distribution\n",
        "  # unplanned_days = [0]\n",
        "  # for i in np.arange(0,10): unplanned_days.append(int(np.random.normal(d_u, (d_std*3))) + unplanned_days[i])  #Random Normal with mean: 50, std 7.5 * some sigma factor\n",
        "  # unplanned_days.pop(0)\n",
        "\n",
        "  \n",
        "  # # Use this code to generate unplanned days based on Poisson\n",
        "  unplanned_days_pre_trim = build_unplanned_days(1/d_u, 0, 15)\n",
        "  unplanned_days = [day for day in unplanned_days_pre_trim if day <= max_days]\n",
        "\n",
        "\n",
        "  # Initial Day to Ship to hit planned demand\n",
        "  initial_schedule = demand_p\n",
        "  initial_ship_out_planned = [i - ship_max for i in demand_p]\n",
        "  \n",
        "  # Ship Units to customers\n",
        "  ship_out_total = initial_ship_out_planned + unplanned_days\n",
        "  ship_out_total.sort()\n",
        "  shipout_total = no_doubles(ship_out_total)\n",
        "  shipout_total_f= [day for day in shipout_total if day <= max_days]\n",
        "\n",
        "  # Day old unit is sent back for repair\n",
        "  send_to_repair = demand_p + unplanned_days\n",
        "  send_to_repair.sort()\n",
        "  send_to_repair = no_doubles(send_to_repair)\n",
        "  send_to_repair_f = [day for day in send_to_repair if day <= max_days]\n",
        "\n",
        "  # Day refurb is shipped, repaired, shipped back to site\n",
        "  refurb_on_site = [i + ship_max + tat_max + ship_max for i in send_to_repair_f]\n",
        "  refurb_on_site = no_doubles(refurb_on_site)\n",
        "  refurb_back_on_site_f = [day for day in refurb_on_site if day <= max_days]\n",
        "\n",
        "  # Where is Stuff Going\n",
        "  location_map = [np.random.choice(3,p=site_prob) for i in shipout_total_f]\n",
        "\n",
        "\n",
        "  # print(\"demand_p\",demand_p)\n",
        "  # print(\"initial_ship_out_planned\", initial_ship_out_planned)\n",
        "  # print(\"unplanned_days\",unplanned_days)\n",
        "  # print(\"This is the precalculated demand schedule:  shipout_total_f\", shipout_total_f)\n",
        "  # print(len(shipout_total_f))\n",
        "  # print(\"send_to_repair\",send_to_repair_f)\n",
        "  # print(\"refurb_back_on_site_f\", refurb_back_on_site_f)\n",
        "  # print(len(refurb_back_on_site_f))\n",
        "  # print(\"location_map\",location_map)\n",
        "  \n",
        "\n",
        "  \n",
        "\n",
        "\n",
        "  # return initial_schedule, unplanned_days, initial_ship_out_planned, ship_out_total, shipout_total_f\n",
        "  # return shipout_total_f, unplanned_days, send_to_repair\n",
        "  return shipout_total_f, refurb_back_on_site_f, location_map"
      ],
      "metadata": {
        "id": "lJg4SIsllLgV"
      },
      "execution_count": 13,
      "outputs": []
    },
    {
      "cell_type": "markdown",
      "source": [
        "### BUILD CORE DEMAND DAYS"
      ],
      "metadata": {
        "id": "2ySL9nPklpCF"
      }
    },
    {
      "cell_type": "code",
      "source": [
        " # Demand days based on initial list of monthly demand, assumed 1st of month is delilvery date\n",
        " \n",
        " demand_p = [(dt.strptime(planned_demand_dates[i], \"%m/%d/%Y\") - dt.strptime(planned_demand_dates[0], \"%m/%d/%Y\")).days for i in range(len(planned_demand_dates))]\n",
        " demand_p = no_doubles(demand_p)\n",
        " print(demand_p,)"
      ],
      "metadata": {
        "colab": {
          "base_uri": "https://localhost:8080/"
        },
        "id": "bM4LCE_KlLY1",
        "outputId": "4850afde-fc1a-40bb-9b94-f3c168f0cfd7"
      },
      "execution_count": 14,
      "outputs": [
        {
          "output_type": "stream",
          "name": "stdout",
          "text": [
            "[0, 31, 32, 92, 123, 184, 185, 215, 244, 275, 276, 336]\n"
          ]
        }
      ]
    },
    {
      "cell_type": "markdown",
      "source": [
        "## Core Sim Loop"
      ],
      "metadata": {
        "id": "HRKUt04UZoH1"
      }
    },
    {
      "cell_type": "markdown",
      "source": [
        "#### Simulation Details:\n",
        "---\n",
        "\n",
        "The Simulation works by first taking the precalculated days that derive from the initial list of months with assumption of delivery on the first of the month.\n",
        "\n",
        "The loop records the outputs of the pre_build_schedule function.\n",
        "\n",
        "inside this function:\n",
        "\n",
        "* Schedule to ship is created using:  (original_sched - ship_time_max) + unplanned_days\n",
        "* Sent to repair schedule is created:  (original_sched + unplanned days)\n",
        "* Refurb Available onsite is created:  (repair_sched + (2 * ship_time_max) + turn-around-time_max)\n",
        "\n",
        "\n",
        "The core sim loop then compares the refurb_avail sched with the ship_sched to determine if a refurb unit is available to meet demand in time.  If not a unit is removed from inventory and recorded.  \n",
        "\n",
        "If a refurb is avail it is removed from the refurb inventory and recorded.\n",
        "\n",
        "A running count of new_inventory used and refurb_inventory avialable and used are kept.\n",
        "\n",
        "The total amount of inventory sent out is then divided between the 3 sites based on their probability of total rental market share as given.\n",
        "\n",
        "All of the simulation runs are stored in a nested list for speed and converted to a dataframe afterwards.\n",
        "\n",
        "\n"
      ],
      "metadata": {
        "id": "iNE1M9xrobpk"
      }
    },
    {
      "cell_type": "code",
      "source": [
        "# Simulation loop, input number of runs (10k runs ~10-30 secs)\n",
        "# Commented out print statements were for debugging...\n",
        "\n",
        "number_of_runs = 10_000\n",
        "\n",
        "obsv_outer = []\n",
        "obsv_inner = []\n",
        "\n",
        "for q in np.arange(1,number_of_runs):\n",
        "\n",
        "  new_inventory = 0\n",
        "  refurb_inventory = 0\n",
        "  refurb_run_use = 0\n",
        "  site_dict = {0:0, 1:0, 2:0}\n",
        "\n",
        "  ds, ra, site = pre_build_schedule(demand_p)\n",
        "  # print(q,ra)\n",
        "\n",
        "  obsv_inner = []\n",
        "  new_inv_start = 0\n",
        "  refurb_inv_start = 0\n",
        "  ra_logg = [ra]\n",
        "  ra_logg_len = len(ra)\n",
        "\n",
        "  for i in np.arange(len(ds)):\n",
        "    \n",
        "    # print(ds[i], site[i])\n",
        "    # check if refurb is avail\n",
        "    if ra[0] < ds[i]:\n",
        "      # print(ra[0], ds[i])\n",
        "      refurb_inv_start = sum(np.array(ra)<= ds[i])\n",
        "      # print(refurb_inventory)\n",
        "      site_dict[site[i]] -= 1\n",
        "      ra.pop(0)\n",
        "      refurb_inventory = refurb_inv_start - 1\n",
        "      refurb_run_use -= 1\n",
        "      # print(ra)\n",
        "    # Take from New_inventory\n",
        "    else:\n",
        "      # print(ds[i])\n",
        "      new_inventory -= 1\n",
        "      site_dict[site[i]] -= 1\n",
        "\n",
        "    # Build Log\n",
        "    # ra =[0] if len(ra) == 0 else ra = ra\n",
        "    if len(ra) == 0:\n",
        "      ra = [1000000] # max out ra if we have run out of units to keep record keeping algo going\n",
        "    r0 = [q, ds[i], site[i], ra[0], new_inv_start, refurb_inv_start, new_inventory, refurb_inventory, refurb_run_use, site_dict, ra_logg, ra_logg_len]\n",
        "    obsv_inner.append(r0)\n",
        "    r0 = 0\n",
        "  \n",
        "  obsv_outer.append(obsv_inner)\n",
        "  \n"
      ],
      "metadata": {
        "id": "EI0iuumK1p5z"
      },
      "execution_count": 15,
      "outputs": []
    },
    {
      "cell_type": "code",
      "source": [
        "# Flatten nested lists to create primary df\n",
        "flatlist = [element for innerList in obsv_outer for element in innerList]\n",
        "\n",
        "dfo = pd.DataFrame(flatlist, columns = ['sim_run', 'day', 'site', 'refurb_d_avail', 'new_inv_start'  , 'refurb_inv_start'  , 'new_inv_end', 'refurb_inv_end', 'refurb_run_use', 'site_counts', 'ra_logg', 'ra_logg_len'])\n",
        "print(len(dfo))\n",
        "dfo.tail(3)"
      ],
      "metadata": {
        "id": "73rnkQdAQaeb",
        "colab": {
          "base_uri": "https://localhost:8080/",
          "height": 162
        },
        "outputId": "9203a3dc-6f82-49e0-97e9-8bdde956c23d"
      },
      "execution_count": 16,
      "outputs": [
        {
          "output_type": "stream",
          "name": "stdout",
          "text": [
            "193192\n"
          ]
        },
        {
          "output_type": "execute_result",
          "data": {
            "text/plain": [
              "        sim_run  day  site  refurb_d_avail  new_inv_start  refurb_inv_start  \\\n",
              "193189     9999  281     1             302              0                 1   \n",
              "193190     9999  301     0             302              0                 1   \n",
              "193191     9999  352     0             310              0                 5   \n",
              "\n",
              "        new_inv_end  refurb_inv_end  refurb_run_use            site_counts  \\\n",
              "193189          -11               0              -6  {0: -9, 1: -7, 2: -3}   \n",
              "193190          -12               0              -6  {0: -9, 1: -7, 2: -3}   \n",
              "193191          -12               4              -7  {0: -9, 1: -7, 2: -3}   \n",
              "\n",
              "                            ra_logg  ra_logg_len  \n",
              "193189  [[310, 311, 316, 341, 362]]           12  \n",
              "193190  [[310, 311, 316, 341, 362]]           12  \n",
              "193191  [[310, 311, 316, 341, 362]]           12  "
            ],
            "text/html": [
              "\n",
              "  <div id=\"df-795b99e7-60c8-43c9-9ee6-21eff0e20942\">\n",
              "    <div class=\"colab-df-container\">\n",
              "      <div>\n",
              "<style scoped>\n",
              "    .dataframe tbody tr th:only-of-type {\n",
              "        vertical-align: middle;\n",
              "    }\n",
              "\n",
              "    .dataframe tbody tr th {\n",
              "        vertical-align: top;\n",
              "    }\n",
              "\n",
              "    .dataframe thead th {\n",
              "        text-align: right;\n",
              "    }\n",
              "</style>\n",
              "<table border=\"1\" class=\"dataframe\">\n",
              "  <thead>\n",
              "    <tr style=\"text-align: right;\">\n",
              "      <th></th>\n",
              "      <th>sim_run</th>\n",
              "      <th>day</th>\n",
              "      <th>site</th>\n",
              "      <th>refurb_d_avail</th>\n",
              "      <th>new_inv_start</th>\n",
              "      <th>refurb_inv_start</th>\n",
              "      <th>new_inv_end</th>\n",
              "      <th>refurb_inv_end</th>\n",
              "      <th>refurb_run_use</th>\n",
              "      <th>site_counts</th>\n",
              "      <th>ra_logg</th>\n",
              "      <th>ra_logg_len</th>\n",
              "    </tr>\n",
              "  </thead>\n",
              "  <tbody>\n",
              "    <tr>\n",
              "      <th>193189</th>\n",
              "      <td>9999</td>\n",
              "      <td>281</td>\n",
              "      <td>1</td>\n",
              "      <td>302</td>\n",
              "      <td>0</td>\n",
              "      <td>1</td>\n",
              "      <td>-11</td>\n",
              "      <td>0</td>\n",
              "      <td>-6</td>\n",
              "      <td>{0: -9, 1: -7, 2: -3}</td>\n",
              "      <td>[[310, 311, 316, 341, 362]]</td>\n",
              "      <td>12</td>\n",
              "    </tr>\n",
              "    <tr>\n",
              "      <th>193190</th>\n",
              "      <td>9999</td>\n",
              "      <td>301</td>\n",
              "      <td>0</td>\n",
              "      <td>302</td>\n",
              "      <td>0</td>\n",
              "      <td>1</td>\n",
              "      <td>-12</td>\n",
              "      <td>0</td>\n",
              "      <td>-6</td>\n",
              "      <td>{0: -9, 1: -7, 2: -3}</td>\n",
              "      <td>[[310, 311, 316, 341, 362]]</td>\n",
              "      <td>12</td>\n",
              "    </tr>\n",
              "    <tr>\n",
              "      <th>193191</th>\n",
              "      <td>9999</td>\n",
              "      <td>352</td>\n",
              "      <td>0</td>\n",
              "      <td>310</td>\n",
              "      <td>0</td>\n",
              "      <td>5</td>\n",
              "      <td>-12</td>\n",
              "      <td>4</td>\n",
              "      <td>-7</td>\n",
              "      <td>{0: -9, 1: -7, 2: -3}</td>\n",
              "      <td>[[310, 311, 316, 341, 362]]</td>\n",
              "      <td>12</td>\n",
              "    </tr>\n",
              "  </tbody>\n",
              "</table>\n",
              "</div>\n",
              "      <button class=\"colab-df-convert\" onclick=\"convertToInteractive('df-795b99e7-60c8-43c9-9ee6-21eff0e20942')\"\n",
              "              title=\"Convert this dataframe to an interactive table.\"\n",
              "              style=\"display:none;\">\n",
              "        \n",
              "  <svg xmlns=\"http://www.w3.org/2000/svg\" height=\"24px\"viewBox=\"0 0 24 24\"\n",
              "       width=\"24px\">\n",
              "    <path d=\"M0 0h24v24H0V0z\" fill=\"none\"/>\n",
              "    <path d=\"M18.56 5.44l.94 2.06.94-2.06 2.06-.94-2.06-.94-.94-2.06-.94 2.06-2.06.94zm-11 1L8.5 8.5l.94-2.06 2.06-.94-2.06-.94L8.5 2.5l-.94 2.06-2.06.94zm10 10l.94 2.06.94-2.06 2.06-.94-2.06-.94-.94-2.06-.94 2.06-2.06.94z\"/><path d=\"M17.41 7.96l-1.37-1.37c-.4-.4-.92-.59-1.43-.59-.52 0-1.04.2-1.43.59L10.3 9.45l-7.72 7.72c-.78.78-.78 2.05 0 2.83L4 21.41c.39.39.9.59 1.41.59.51 0 1.02-.2 1.41-.59l7.78-7.78 2.81-2.81c.8-.78.8-2.07 0-2.86zM5.41 20L4 18.59l7.72-7.72 1.47 1.35L5.41 20z\"/>\n",
              "  </svg>\n",
              "      </button>\n",
              "      \n",
              "  <style>\n",
              "    .colab-df-container {\n",
              "      display:flex;\n",
              "      flex-wrap:wrap;\n",
              "      gap: 12px;\n",
              "    }\n",
              "\n",
              "    .colab-df-convert {\n",
              "      background-color: #E8F0FE;\n",
              "      border: none;\n",
              "      border-radius: 50%;\n",
              "      cursor: pointer;\n",
              "      display: none;\n",
              "      fill: #1967D2;\n",
              "      height: 32px;\n",
              "      padding: 0 0 0 0;\n",
              "      width: 32px;\n",
              "    }\n",
              "\n",
              "    .colab-df-convert:hover {\n",
              "      background-color: #E2EBFA;\n",
              "      box-shadow: 0px 1px 2px rgba(60, 64, 67, 0.3), 0px 1px 3px 1px rgba(60, 64, 67, 0.15);\n",
              "      fill: #174EA6;\n",
              "    }\n",
              "\n",
              "    [theme=dark] .colab-df-convert {\n",
              "      background-color: #3B4455;\n",
              "      fill: #D2E3FC;\n",
              "    }\n",
              "\n",
              "    [theme=dark] .colab-df-convert:hover {\n",
              "      background-color: #434B5C;\n",
              "      box-shadow: 0px 1px 3px 1px rgba(0, 0, 0, 0.15);\n",
              "      filter: drop-shadow(0px 1px 2px rgba(0, 0, 0, 0.3));\n",
              "      fill: #FFFFFF;\n",
              "    }\n",
              "  </style>\n",
              "\n",
              "      <script>\n",
              "        const buttonEl =\n",
              "          document.querySelector('#df-795b99e7-60c8-43c9-9ee6-21eff0e20942 button.colab-df-convert');\n",
              "        buttonEl.style.display =\n",
              "          google.colab.kernel.accessAllowed ? 'block' : 'none';\n",
              "\n",
              "        async function convertToInteractive(key) {\n",
              "          const element = document.querySelector('#df-795b99e7-60c8-43c9-9ee6-21eff0e20942');\n",
              "          const dataTable =\n",
              "            await google.colab.kernel.invokeFunction('convertToInteractive',\n",
              "                                                     [key], {});\n",
              "          if (!dataTable) return;\n",
              "\n",
              "          const docLinkHtml = 'Like what you see? Visit the ' +\n",
              "            '<a target=\"_blank\" href=https://colab.research.google.com/notebooks/data_table.ipynb>data table notebook</a>'\n",
              "            + ' to learn more about interactive tables.';\n",
              "          element.innerHTML = '';\n",
              "          dataTable['output_type'] = 'display_data';\n",
              "          await google.colab.output.renderOutput(dataTable, element);\n",
              "          const docLink = document.createElement('div');\n",
              "          docLink.innerHTML = docLinkHtml;\n",
              "          element.appendChild(docLink);\n",
              "        }\n",
              "      </script>\n",
              "    </div>\n",
              "  </div>\n",
              "  "
            ]
          },
          "metadata": {},
          "execution_count": 16
        }
      ]
    },
    {
      "cell_type": "code",
      "source": [
        "dfo.describe().T"
      ],
      "metadata": {
        "colab": {
          "base_uri": "https://localhost:8080/",
          "height": 363
        },
        "id": "ceVJmlK5zDf3",
        "outputId": "964d4c58-2605-408d-c63c-a06c454cf5fa"
      },
      "execution_count": 17,
      "outputs": [
        {
          "output_type": "execute_result",
          "data": {
            "text/plain": [
              "                     count         mean           std    min     25%     50%  \\\n",
              "sim_run           193192.0  4996.059801   2888.795240    1.0  2489.0  5000.0   \n",
              "day               193192.0   150.413594    108.305734  -35.0    57.0   150.0   \n",
              "site              193192.0     0.799298      0.747511    0.0     0.0     1.0   \n",
              "refurb_d_avail    193192.0  1233.009985  32392.754930  126.0   126.0   157.0   \n",
              "new_inv_start     193192.0     0.000000      0.000000    0.0     0.0     0.0   \n",
              "refurb_inv_start  193192.0     1.122407      1.294890    0.0     0.0     1.0   \n",
              "new_inv_end       193192.0    -7.474424      3.210011  -19.0   -10.0    -8.0   \n",
              "refurb_inv_end    193192.0     0.513650      1.018156    0.0     0.0     0.0   \n",
              "refurb_run_use    193192.0    -2.872578      3.170946  -15.0    -5.0    -2.0   \n",
              "ra_logg_len       193192.0    13.067430      2.236810    8.0    11.0    13.0   \n",
              "\n",
              "                     75%        max  \n",
              "sim_run           7490.0     9999.0  \n",
              "day                240.0      365.0  \n",
              "site                 1.0        2.0  \n",
              "refurb_d_avail     234.0  1000000.0  \n",
              "new_inv_start        0.0        0.0  \n",
              "refurb_inv_start     2.0       12.0  \n",
              "new_inv_end         -5.0       -1.0  \n",
              "refurb_inv_end       1.0       11.0  \n",
              "refurb_run_use       0.0        0.0  \n",
              "ra_logg_len         14.0       22.0  "
            ],
            "text/html": [
              "\n",
              "  <div id=\"df-98bbb2b6-56c0-4bc5-9413-e622914f83cb\">\n",
              "    <div class=\"colab-df-container\">\n",
              "      <div>\n",
              "<style scoped>\n",
              "    .dataframe tbody tr th:only-of-type {\n",
              "        vertical-align: middle;\n",
              "    }\n",
              "\n",
              "    .dataframe tbody tr th {\n",
              "        vertical-align: top;\n",
              "    }\n",
              "\n",
              "    .dataframe thead th {\n",
              "        text-align: right;\n",
              "    }\n",
              "</style>\n",
              "<table border=\"1\" class=\"dataframe\">\n",
              "  <thead>\n",
              "    <tr style=\"text-align: right;\">\n",
              "      <th></th>\n",
              "      <th>count</th>\n",
              "      <th>mean</th>\n",
              "      <th>std</th>\n",
              "      <th>min</th>\n",
              "      <th>25%</th>\n",
              "      <th>50%</th>\n",
              "      <th>75%</th>\n",
              "      <th>max</th>\n",
              "    </tr>\n",
              "  </thead>\n",
              "  <tbody>\n",
              "    <tr>\n",
              "      <th>sim_run</th>\n",
              "      <td>193192.0</td>\n",
              "      <td>4996.059801</td>\n",
              "      <td>2888.795240</td>\n",
              "      <td>1.0</td>\n",
              "      <td>2489.0</td>\n",
              "      <td>5000.0</td>\n",
              "      <td>7490.0</td>\n",
              "      <td>9999.0</td>\n",
              "    </tr>\n",
              "    <tr>\n",
              "      <th>day</th>\n",
              "      <td>193192.0</td>\n",
              "      <td>150.413594</td>\n",
              "      <td>108.305734</td>\n",
              "      <td>-35.0</td>\n",
              "      <td>57.0</td>\n",
              "      <td>150.0</td>\n",
              "      <td>240.0</td>\n",
              "      <td>365.0</td>\n",
              "    </tr>\n",
              "    <tr>\n",
              "      <th>site</th>\n",
              "      <td>193192.0</td>\n",
              "      <td>0.799298</td>\n",
              "      <td>0.747511</td>\n",
              "      <td>0.0</td>\n",
              "      <td>0.0</td>\n",
              "      <td>1.0</td>\n",
              "      <td>1.0</td>\n",
              "      <td>2.0</td>\n",
              "    </tr>\n",
              "    <tr>\n",
              "      <th>refurb_d_avail</th>\n",
              "      <td>193192.0</td>\n",
              "      <td>1233.009985</td>\n",
              "      <td>32392.754930</td>\n",
              "      <td>126.0</td>\n",
              "      <td>126.0</td>\n",
              "      <td>157.0</td>\n",
              "      <td>234.0</td>\n",
              "      <td>1000000.0</td>\n",
              "    </tr>\n",
              "    <tr>\n",
              "      <th>new_inv_start</th>\n",
              "      <td>193192.0</td>\n",
              "      <td>0.000000</td>\n",
              "      <td>0.000000</td>\n",
              "      <td>0.0</td>\n",
              "      <td>0.0</td>\n",
              "      <td>0.0</td>\n",
              "      <td>0.0</td>\n",
              "      <td>0.0</td>\n",
              "    </tr>\n",
              "    <tr>\n",
              "      <th>refurb_inv_start</th>\n",
              "      <td>193192.0</td>\n",
              "      <td>1.122407</td>\n",
              "      <td>1.294890</td>\n",
              "      <td>0.0</td>\n",
              "      <td>0.0</td>\n",
              "      <td>1.0</td>\n",
              "      <td>2.0</td>\n",
              "      <td>12.0</td>\n",
              "    </tr>\n",
              "    <tr>\n",
              "      <th>new_inv_end</th>\n",
              "      <td>193192.0</td>\n",
              "      <td>-7.474424</td>\n",
              "      <td>3.210011</td>\n",
              "      <td>-19.0</td>\n",
              "      <td>-10.0</td>\n",
              "      <td>-8.0</td>\n",
              "      <td>-5.0</td>\n",
              "      <td>-1.0</td>\n",
              "    </tr>\n",
              "    <tr>\n",
              "      <th>refurb_inv_end</th>\n",
              "      <td>193192.0</td>\n",
              "      <td>0.513650</td>\n",
              "      <td>1.018156</td>\n",
              "      <td>0.0</td>\n",
              "      <td>0.0</td>\n",
              "      <td>0.0</td>\n",
              "      <td>1.0</td>\n",
              "      <td>11.0</td>\n",
              "    </tr>\n",
              "    <tr>\n",
              "      <th>refurb_run_use</th>\n",
              "      <td>193192.0</td>\n",
              "      <td>-2.872578</td>\n",
              "      <td>3.170946</td>\n",
              "      <td>-15.0</td>\n",
              "      <td>-5.0</td>\n",
              "      <td>-2.0</td>\n",
              "      <td>0.0</td>\n",
              "      <td>0.0</td>\n",
              "    </tr>\n",
              "    <tr>\n",
              "      <th>ra_logg_len</th>\n",
              "      <td>193192.0</td>\n",
              "      <td>13.067430</td>\n",
              "      <td>2.236810</td>\n",
              "      <td>8.0</td>\n",
              "      <td>11.0</td>\n",
              "      <td>13.0</td>\n",
              "      <td>14.0</td>\n",
              "      <td>22.0</td>\n",
              "    </tr>\n",
              "  </tbody>\n",
              "</table>\n",
              "</div>\n",
              "      <button class=\"colab-df-convert\" onclick=\"convertToInteractive('df-98bbb2b6-56c0-4bc5-9413-e622914f83cb')\"\n",
              "              title=\"Convert this dataframe to an interactive table.\"\n",
              "              style=\"display:none;\">\n",
              "        \n",
              "  <svg xmlns=\"http://www.w3.org/2000/svg\" height=\"24px\"viewBox=\"0 0 24 24\"\n",
              "       width=\"24px\">\n",
              "    <path d=\"M0 0h24v24H0V0z\" fill=\"none\"/>\n",
              "    <path d=\"M18.56 5.44l.94 2.06.94-2.06 2.06-.94-2.06-.94-.94-2.06-.94 2.06-2.06.94zm-11 1L8.5 8.5l.94-2.06 2.06-.94-2.06-.94L8.5 2.5l-.94 2.06-2.06.94zm10 10l.94 2.06.94-2.06 2.06-.94-2.06-.94-.94-2.06-.94 2.06-2.06.94z\"/><path d=\"M17.41 7.96l-1.37-1.37c-.4-.4-.92-.59-1.43-.59-.52 0-1.04.2-1.43.59L10.3 9.45l-7.72 7.72c-.78.78-.78 2.05 0 2.83L4 21.41c.39.39.9.59 1.41.59.51 0 1.02-.2 1.41-.59l7.78-7.78 2.81-2.81c.8-.78.8-2.07 0-2.86zM5.41 20L4 18.59l7.72-7.72 1.47 1.35L5.41 20z\"/>\n",
              "  </svg>\n",
              "      </button>\n",
              "      \n",
              "  <style>\n",
              "    .colab-df-container {\n",
              "      display:flex;\n",
              "      flex-wrap:wrap;\n",
              "      gap: 12px;\n",
              "    }\n",
              "\n",
              "    .colab-df-convert {\n",
              "      background-color: #E8F0FE;\n",
              "      border: none;\n",
              "      border-radius: 50%;\n",
              "      cursor: pointer;\n",
              "      display: none;\n",
              "      fill: #1967D2;\n",
              "      height: 32px;\n",
              "      padding: 0 0 0 0;\n",
              "      width: 32px;\n",
              "    }\n",
              "\n",
              "    .colab-df-convert:hover {\n",
              "      background-color: #E2EBFA;\n",
              "      box-shadow: 0px 1px 2px rgba(60, 64, 67, 0.3), 0px 1px 3px 1px rgba(60, 64, 67, 0.15);\n",
              "      fill: #174EA6;\n",
              "    }\n",
              "\n",
              "    [theme=dark] .colab-df-convert {\n",
              "      background-color: #3B4455;\n",
              "      fill: #D2E3FC;\n",
              "    }\n",
              "\n",
              "    [theme=dark] .colab-df-convert:hover {\n",
              "      background-color: #434B5C;\n",
              "      box-shadow: 0px 1px 3px 1px rgba(0, 0, 0, 0.15);\n",
              "      filter: drop-shadow(0px 1px 2px rgba(0, 0, 0, 0.3));\n",
              "      fill: #FFFFFF;\n",
              "    }\n",
              "  </style>\n",
              "\n",
              "      <script>\n",
              "        const buttonEl =\n",
              "          document.querySelector('#df-98bbb2b6-56c0-4bc5-9413-e622914f83cb button.colab-df-convert');\n",
              "        buttonEl.style.display =\n",
              "          google.colab.kernel.accessAllowed ? 'block' : 'none';\n",
              "\n",
              "        async function convertToInteractive(key) {\n",
              "          const element = document.querySelector('#df-98bbb2b6-56c0-4bc5-9413-e622914f83cb');\n",
              "          const dataTable =\n",
              "            await google.colab.kernel.invokeFunction('convertToInteractive',\n",
              "                                                     [key], {});\n",
              "          if (!dataTable) return;\n",
              "\n",
              "          const docLinkHtml = 'Like what you see? Visit the ' +\n",
              "            '<a target=\"_blank\" href=https://colab.research.google.com/notebooks/data_table.ipynb>data table notebook</a>'\n",
              "            + ' to learn more about interactive tables.';\n",
              "          element.innerHTML = '';\n",
              "          dataTable['output_type'] = 'display_data';\n",
              "          await google.colab.output.renderOutput(dataTable, element);\n",
              "          const docLink = document.createElement('div');\n",
              "          docLink.innerHTML = docLinkHtml;\n",
              "          element.appendChild(docLink);\n",
              "        }\n",
              "      </script>\n",
              "    </div>\n",
              "  </div>\n",
              "  "
            ]
          },
          "metadata": {},
          "execution_count": 17
        }
      ]
    },
    {
      "cell_type": "code",
      "source": [
        "#Create cummulative sum calcs to determine 80% demand threshold\n",
        "mins = dfo.groupby('new_inv_end').count().reset_index()\n",
        "mins['pct'] = mins['sim_run'] / len(dfo)\n",
        "mins = mins.sort_values('new_inv_end',ascending=False)\n",
        "mins['cumsum'] = mins['pct'].cumsum()\n",
        "mins_f = mins[mins['cumsum'] >= .8].head(1)\n",
        "mins_f\n"
      ],
      "metadata": {
        "colab": {
          "base_uri": "https://localhost:8080/",
          "height": 81
        },
        "id": "geSwJUI7RY39",
        "outputId": "21bcf7a8-72e5-4a41-8dd4-df896cdc81d8"
      },
      "execution_count": 18,
      "outputs": [
        {
          "output_type": "execute_result",
          "data": {
            "text/plain": [
              "   new_inv_end  sim_run    day   site  refurb_d_avail  new_inv_start  \\\n",
              "9          -10    24568  24568  24568           24568          24568   \n",
              "\n",
              "   refurb_inv_start  refurb_inv_end  refurb_run_use  site_counts  ra_logg  \\\n",
              "9             24568           24568           24568        24568    24568   \n",
              "\n",
              "   ra_logg_len       pct    cumsum  \n",
              "9        24568  0.127169  0.833948  "
            ],
            "text/html": [
              "\n",
              "  <div id=\"df-90add84e-ba4a-4b8f-b9ef-e27158830a0b\">\n",
              "    <div class=\"colab-df-container\">\n",
              "      <div>\n",
              "<style scoped>\n",
              "    .dataframe tbody tr th:only-of-type {\n",
              "        vertical-align: middle;\n",
              "    }\n",
              "\n",
              "    .dataframe tbody tr th {\n",
              "        vertical-align: top;\n",
              "    }\n",
              "\n",
              "    .dataframe thead th {\n",
              "        text-align: right;\n",
              "    }\n",
              "</style>\n",
              "<table border=\"1\" class=\"dataframe\">\n",
              "  <thead>\n",
              "    <tr style=\"text-align: right;\">\n",
              "      <th></th>\n",
              "      <th>new_inv_end</th>\n",
              "      <th>sim_run</th>\n",
              "      <th>day</th>\n",
              "      <th>site</th>\n",
              "      <th>refurb_d_avail</th>\n",
              "      <th>new_inv_start</th>\n",
              "      <th>refurb_inv_start</th>\n",
              "      <th>refurb_inv_end</th>\n",
              "      <th>refurb_run_use</th>\n",
              "      <th>site_counts</th>\n",
              "      <th>ra_logg</th>\n",
              "      <th>ra_logg_len</th>\n",
              "      <th>pct</th>\n",
              "      <th>cumsum</th>\n",
              "    </tr>\n",
              "  </thead>\n",
              "  <tbody>\n",
              "    <tr>\n",
              "      <th>9</th>\n",
              "      <td>-10</td>\n",
              "      <td>24568</td>\n",
              "      <td>24568</td>\n",
              "      <td>24568</td>\n",
              "      <td>24568</td>\n",
              "      <td>24568</td>\n",
              "      <td>24568</td>\n",
              "      <td>24568</td>\n",
              "      <td>24568</td>\n",
              "      <td>24568</td>\n",
              "      <td>24568</td>\n",
              "      <td>24568</td>\n",
              "      <td>0.127169</td>\n",
              "      <td>0.833948</td>\n",
              "    </tr>\n",
              "  </tbody>\n",
              "</table>\n",
              "</div>\n",
              "      <button class=\"colab-df-convert\" onclick=\"convertToInteractive('df-90add84e-ba4a-4b8f-b9ef-e27158830a0b')\"\n",
              "              title=\"Convert this dataframe to an interactive table.\"\n",
              "              style=\"display:none;\">\n",
              "        \n",
              "  <svg xmlns=\"http://www.w3.org/2000/svg\" height=\"24px\"viewBox=\"0 0 24 24\"\n",
              "       width=\"24px\">\n",
              "    <path d=\"M0 0h24v24H0V0z\" fill=\"none\"/>\n",
              "    <path d=\"M18.56 5.44l.94 2.06.94-2.06 2.06-.94-2.06-.94-.94-2.06-.94 2.06-2.06.94zm-11 1L8.5 8.5l.94-2.06 2.06-.94-2.06-.94L8.5 2.5l-.94 2.06-2.06.94zm10 10l.94 2.06.94-2.06 2.06-.94-2.06-.94-.94-2.06-.94 2.06-2.06.94z\"/><path d=\"M17.41 7.96l-1.37-1.37c-.4-.4-.92-.59-1.43-.59-.52 0-1.04.2-1.43.59L10.3 9.45l-7.72 7.72c-.78.78-.78 2.05 0 2.83L4 21.41c.39.39.9.59 1.41.59.51 0 1.02-.2 1.41-.59l7.78-7.78 2.81-2.81c.8-.78.8-2.07 0-2.86zM5.41 20L4 18.59l7.72-7.72 1.47 1.35L5.41 20z\"/>\n",
              "  </svg>\n",
              "      </button>\n",
              "      \n",
              "  <style>\n",
              "    .colab-df-container {\n",
              "      display:flex;\n",
              "      flex-wrap:wrap;\n",
              "      gap: 12px;\n",
              "    }\n",
              "\n",
              "    .colab-df-convert {\n",
              "      background-color: #E8F0FE;\n",
              "      border: none;\n",
              "      border-radius: 50%;\n",
              "      cursor: pointer;\n",
              "      display: none;\n",
              "      fill: #1967D2;\n",
              "      height: 32px;\n",
              "      padding: 0 0 0 0;\n",
              "      width: 32px;\n",
              "    }\n",
              "\n",
              "    .colab-df-convert:hover {\n",
              "      background-color: #E2EBFA;\n",
              "      box-shadow: 0px 1px 2px rgba(60, 64, 67, 0.3), 0px 1px 3px 1px rgba(60, 64, 67, 0.15);\n",
              "      fill: #174EA6;\n",
              "    }\n",
              "\n",
              "    [theme=dark] .colab-df-convert {\n",
              "      background-color: #3B4455;\n",
              "      fill: #D2E3FC;\n",
              "    }\n",
              "\n",
              "    [theme=dark] .colab-df-convert:hover {\n",
              "      background-color: #434B5C;\n",
              "      box-shadow: 0px 1px 3px 1px rgba(0, 0, 0, 0.15);\n",
              "      filter: drop-shadow(0px 1px 2px rgba(0, 0, 0, 0.3));\n",
              "      fill: #FFFFFF;\n",
              "    }\n",
              "  </style>\n",
              "\n",
              "      <script>\n",
              "        const buttonEl =\n",
              "          document.querySelector('#df-90add84e-ba4a-4b8f-b9ef-e27158830a0b button.colab-df-convert');\n",
              "        buttonEl.style.display =\n",
              "          google.colab.kernel.accessAllowed ? 'block' : 'none';\n",
              "\n",
              "        async function convertToInteractive(key) {\n",
              "          const element = document.querySelector('#df-90add84e-ba4a-4b8f-b9ef-e27158830a0b');\n",
              "          const dataTable =\n",
              "            await google.colab.kernel.invokeFunction('convertToInteractive',\n",
              "                                                     [key], {});\n",
              "          if (!dataTable) return;\n",
              "\n",
              "          const docLinkHtml = 'Like what you see? Visit the ' +\n",
              "            '<a target=\"_blank\" href=https://colab.research.google.com/notebooks/data_table.ipynb>data table notebook</a>'\n",
              "            + ' to learn more about interactive tables.';\n",
              "          element.innerHTML = '';\n",
              "          dataTable['output_type'] = 'display_data';\n",
              "          await google.colab.output.renderOutput(dataTable, element);\n",
              "          const docLink = document.createElement('div');\n",
              "          docLink.innerHTML = docLinkHtml;\n",
              "          element.appendChild(docLink);\n",
              "        }\n",
              "      </script>\n",
              "    </div>\n",
              "  </div>\n",
              "  "
            ]
          },
          "metadata": {},
          "execution_count": 18
        }
      ]
    },
    {
      "cell_type": "code",
      "source": [
        "# Output plot of cumulative sum showing new units needed to meet ~80% of demand\n",
        "plot = mins.plot('new_inv_end', 'cumsum', marker = 'o')\n",
        "plot.axhline(.8, linestyle = '--', color = 'gray')\n",
        "plot.axvline(-10, linestyle = '--', color = 'gray')\n",
        "plt.xlim(-20,0)\n",
        "plt.xticks(range(-20,1,1))\n",
        "plt.show()"
      ],
      "metadata": {
        "colab": {
          "base_uri": "https://localhost:8080/",
          "height": 280
        },
        "id": "VArbzqmjeMfM",
        "outputId": "1d129c57-b6c1-4236-a95e-b69c0db54c14"
      },
      "execution_count": 19,
      "outputs": [
        {
          "output_type": "display_data",
          "data": {
            "text/plain": [
              "<Figure size 432x288 with 1 Axes>"
            ],
            "image/png": "[encoded data removed]"
          },
          "metadata": {
            "needs_background": "light"
          }
        }
      ]
    },
    {
      "cell_type": "code",
      "source": [
        "df_dict = pd.json_normalize(dfo['site_counts']) #explode site dictionary cell to df\n",
        "result = pd.concat([dfo, df_dict], axis=1) #join dict_df to primary output\n",
        "\n",
        "# result.describe().T"
      ],
      "metadata": {
        "id": "-w7U2tyZRY6l"
      },
      "execution_count": 20,
      "outputs": []
    },
    {
      "cell_type": "code",
      "source": [
        "result['refurb_diff'] = result['refurb_inv_start'] - result['refurb_inv_end']\n",
        "result['running_new_inventory_positive_start'] = result['new_inv_end'] + 11\n",
        "result['total_inv'] = result['running_new_inventory_positive_start'] + result['refurb_inv_start']\n",
        "print(len(result))\n",
        "result.tail(5)"
      ],
      "metadata": {
        "colab": {
          "base_uri": "https://localhost:8080/",
          "height": 635
        },
        "id": "C8mpDIpKfm4l",
        "outputId": "9aaaa641-1fd1-48c2-8fa1-f917042a001b"
      },
      "execution_count": 21,
      "outputs": [
        {
          "output_type": "stream",
          "name": "stdout",
          "text": [
            "193192\n"
          ]
        },
        {
          "output_type": "execute_result",
          "data": {
            "text/plain": [
              "        sim_run  day  site  refurb_d_avail  new_inv_start  refurb_inv_start  \\\n",
              "193187     9999  241     2             249              0                 1   \n",
              "193188     9999  245     0             249              0                 1   \n",
              "193189     9999  281     1             302              0                 1   \n",
              "193190     9999  301     0             302              0                 1   \n",
              "193191     9999  352     0             310              0                 5   \n",
              "\n",
              "        new_inv_end  refurb_inv_end  refurb_run_use            site_counts  \\\n",
              "193187          -10               0              -5  {0: -9, 1: -7, 2: -3}   \n",
              "193188          -11               0              -5  {0: -9, 1: -7, 2: -3}   \n",
              "193189          -11               0              -6  {0: -9, 1: -7, 2: -3}   \n",
              "193190          -12               0              -6  {0: -9, 1: -7, 2: -3}   \n",
              "193191          -12               4              -7  {0: -9, 1: -7, 2: -3}   \n",
              "\n",
              "                            ra_logg  ra_logg_len  0  1  2  refurb_diff  \\\n",
              "193187  [[310, 311, 316, 341, 362]]           12 -9 -7 -3            1   \n",
              "193188  [[310, 311, 316, 341, 362]]           12 -9 -7 -3            1   \n",
              "193189  [[310, 311, 316, 341, 362]]           12 -9 -7 -3            1   \n",
              "193190  [[310, 311, 316, 341, 362]]           12 -9 -7 -3            1   \n",
              "193191  [[310, 311, 316, 341, 362]]           12 -9 -7 -3            1   \n",
              "\n",
              "        running_new_inventory_positive_start  total_inv  \n",
              "193187                                     1          2  \n",
              "193188                                     0          1  \n",
              "193189                                     0          1  \n",
              "193190                                    -1          0  \n",
              "193191                                    -1          4  "
            ],
            "text/html": [
              "\n",
              "  <div id=\"df-bc371922-651b-41e4-9002-1c2b7f4a9dd4\">\n",
              "    <div class=\"colab-df-container\">\n",
              "      <div>\n",
              "<style scoped>\n",
              "    .dataframe tbody tr th:only-of-type {\n",
              "        vertical-align: middle;\n",
              "    }\n",
              "\n",
              "    .dataframe tbody tr th {\n",
              "        vertical-align: top;\n",
              "    }\n",
              "\n",
              "    .dataframe thead th {\n",
              "        text-align: right;\n",
              "    }\n",
              "</style>\n",
              "<table border=\"1\" class=\"dataframe\">\n",
              "  <thead>\n",
              "    <tr style=\"text-align: right;\">\n",
              "      <th></th>\n",
              "      <th>sim_run</th>\n",
              "      <th>day</th>\n",
              "      <th>site</th>\n",
              "      <th>refurb_d_avail</th>\n",
              "      <th>new_inv_start</th>\n",
              "      <th>refurb_inv_start</th>\n",
              "      <th>new_inv_end</th>\n",
              "      <th>refurb_inv_end</th>\n",
              "      <th>refurb_run_use</th>\n",
              "      <th>site_counts</th>\n",
              "      <th>ra_logg</th>\n",
              "      <th>ra_logg_len</th>\n",
              "      <th>0</th>\n",
              "      <th>1</th>\n",
              "      <th>2</th>\n",
              "      <th>refurb_diff</th>\n",
              "      <th>running_new_inventory_positive_start</th>\n",
              "      <th>total_inv</th>\n",
              "    </tr>\n",
              "  </thead>\n",
              "  <tbody>\n",
              "    <tr>\n",
              "      <th>193187</th>\n",
              "      <td>9999</td>\n",
              "      <td>241</td>\n",
              "      <td>2</td>\n",
              "      <td>249</td>\n",
              "      <td>0</td>\n",
              "      <td>1</td>\n",
              "      <td>-10</td>\n",
              "      <td>0</td>\n",
              "      <td>-5</td>\n",
              "      <td>{0: -9, 1: -7, 2: -3}</td>\n",
              "      <td>[[310, 311, 316, 341, 362]]</td>\n",
              "      <td>12</td>\n",
              "      <td>-9</td>\n",
              "      <td>-7</td>\n",
              "      <td>-3</td>\n",
              "      <td>1</td>\n",
              "      <td>1</td>\n",
              "      <td>2</td>\n",
              "    </tr>\n",
              "    <tr>\n",
              "      <th>193188</th>\n",
              "      <td>9999</td>\n",
              "      <td>245</td>\n",
              "      <td>0</td>\n",
              "      <td>249</td>\n",
              "      <td>0</td>\n",
              "      <td>1</td>\n",
              "      <td>-11</td>\n",
              "      <td>0</td>\n",
              "      <td>-5</td>\n",
              "      <td>{0: -9, 1: -7, 2: -3}</td>\n",
              "      <td>[[310, 311, 316, 341, 362]]</td>\n",
              "      <td>12</td>\n",
              "      <td>-9</td>\n",
              "      <td>-7</td>\n",
              "      <td>-3</td>\n",
              "      <td>1</td>\n",
              "      <td>0</td>\n",
              "      <td>1</td>\n",
              "    </tr>\n",
              "    <tr>\n",
              "      <th>193189</th>\n",
              "      <td>9999</td>\n",
              "      <td>281</td>\n",
              "      <td>1</td>\n",
              "      <td>302</td>\n",
              "      <td>0</td>\n",
              "      <td>1</td>\n",
              "      <td>-11</td>\n",
              "      <td>0</td>\n",
              "      <td>-6</td>\n",
              "      <td>{0: -9, 1: -7, 2: -3}</td>\n",
              "      <td>[[310, 311, 316, 341, 362]]</td>\n",
              "      <td>12</td>\n",
              "      <td>-9</td>\n",
              "      <td>-7</td>\n",
              "      <td>-3</td>\n",
              "      <td>1</td>\n",
              "      <td>0</td>\n",
              "      <td>1</td>\n",
              "    </tr>\n",
              "    <tr>\n",
              "      <th>193190</th>\n",
              "      <td>9999</td>\n",
              "      <td>301</td>\n",
              "      <td>0</td>\n",
              "      <td>302</td>\n",
              "      <td>0</td>\n",
              "      <td>1</td>\n",
              "      <td>-12</td>\n",
              "      <td>0</td>\n",
              "      <td>-6</td>\n",
              "      <td>{0: -9, 1: -7, 2: -3}</td>\n",
              "      <td>[[310, 311, 316, 341, 362]]</td>\n",
              "      <td>12</td>\n",
              "      <td>-9</td>\n",
              "      <td>-7</td>\n",
              "      <td>-3</td>\n",
              "      <td>1</td>\n",
              "      <td>-1</td>\n",
              "      <td>0</td>\n",
              "    </tr>\n",
              "    <tr>\n",
              "      <th>193191</th>\n",
              "      <td>9999</td>\n",
              "      <td>352</td>\n",
              "      <td>0</td>\n",
              "      <td>310</td>\n",
              "      <td>0</td>\n",
              "      <td>5</td>\n",
              "      <td>-12</td>\n",
              "      <td>4</td>\n",
              "      <td>-7</td>\n",
              "      <td>{0: -9, 1: -7, 2: -3}</td>\n",
              "      <td>[[310, 311, 316, 341, 362]]</td>\n",
              "      <td>12</td>\n",
              "      <td>-9</td>\n",
              "      <td>-7</td>\n",
              "      <td>-3</td>\n",
              "      <td>1</td>\n",
              "      <td>-1</td>\n",
              "      <td>4</td>\n",
              "    </tr>\n",
              "  </tbody>\n",
              "</table>\n",
              "</div>\n",
              "      <button class=\"colab-df-convert\" onclick=\"convertToInteractive('df-bc371922-651b-41e4-9002-1c2b7f4a9dd4')\"\n",
              "              title=\"Convert this dataframe to an interactive table.\"\n",
              "              style=\"display:none;\">\n",
              "        \n",
              "  <svg xmlns=\"http://www.w3.org/2000/svg\" height=\"24px\"viewBox=\"0 0 24 24\"\n",
              "       width=\"24px\">\n",
              "    <path d=\"M0 0h24v24H0V0z\" fill=\"none\"/>\n",
              "    <path d=\"M18.56 5.44l.94 2.06.94-2.06 2.06-.94-2.06-.94-.94-2.06-.94 2.06-2.06.94zm-11 1L8.5 8.5l.94-2.06 2.06-.94-2.06-.94L8.5 2.5l-.94 2.06-2.06.94zm10 10l.94 2.06.94-2.06 2.06-.94-2.06-.94-.94-2.06-.94 2.06-2.06.94z\"/><path d=\"M17.41 7.96l-1.37-1.37c-.4-.4-.92-.59-1.43-.59-.52 0-1.04.2-1.43.59L10.3 9.45l-7.72 7.72c-.78.78-.78 2.05 0 2.83L4 21.41c.39.39.9.59 1.41.59.51 0 1.02-.2 1.41-.59l7.78-7.78 2.81-2.81c.8-.78.8-2.07 0-2.86zM5.41 20L4 18.59l7.72-7.72 1.47 1.35L5.41 20z\"/>\n",
              "  </svg>\n",
              "      </button>\n",
              "      \n",
              "  <style>\n",
              "    .colab-df-container {\n",
              "      display:flex;\n",
              "      flex-wrap:wrap;\n",
              "      gap: 12px;\n",
              "    }\n",
              "\n",
              "    .colab-df-convert {\n",
              "      background-color: #E8F0FE;\n",
              "      border: none;\n",
              "      border-radius: 50%;\n",
              "      cursor: pointer;\n",
              "      display: none;\n",
              "      fill: #1967D2;\n",
              "      height: 32px;\n",
              "      padding: 0 0 0 0;\n",
              "      width: 32px;\n",
              "    }\n",
              "\n",
              "    .colab-df-convert:hover {\n",
              "      background-color: #E2EBFA;\n",
              "      box-shadow: 0px 1px 2px rgba(60, 64, 67, 0.3), 0px 1px 3px 1px rgba(60, 64, 67, 0.15);\n",
              "      fill: #174EA6;\n",
              "    }\n",
              "\n",
              "    [theme=dark] .colab-df-convert {\n",
              "      background-color: #3B4455;\n",
              "      fill: #D2E3FC;\n",
              "    }\n",
              "\n",
              "    [theme=dark] .colab-df-convert:hover {\n",
              "      background-color: #434B5C;\n",
              "      box-shadow: 0px 1px 3px 1px rgba(0, 0, 0, 0.15);\n",
              "      filter: drop-shadow(0px 1px 2px rgba(0, 0, 0, 0.3));\n",
              "      fill: #FFFFFF;\n",
              "    }\n",
              "  </style>\n",
              "\n",
              "      <script>\n",
              "        const buttonEl =\n",
              "          document.querySelector('#df-bc371922-651b-41e4-9002-1c2b7f4a9dd4 button.colab-df-convert');\n",
              "        buttonEl.style.display =\n",
              "          google.colab.kernel.accessAllowed ? 'block' : 'none';\n",
              "\n",
              "        async function convertToInteractive(key) {\n",
              "          const element = document.querySelector('#df-bc371922-651b-41e4-9002-1c2b7f4a9dd4');\n",
              "          const dataTable =\n",
              "            await google.colab.kernel.invokeFunction('convertToInteractive',\n",
              "                                                     [key], {});\n",
              "          if (!dataTable) return;\n",
              "\n",
              "          const docLinkHtml = 'Like what you see? Visit the ' +\n",
              "            '<a target=\"_blank\" href=https://colab.research.google.com/notebooks/data_table.ipynb>data table notebook</a>'\n",
              "            + ' to learn more about interactive tables.';\n",
              "          element.innerHTML = '';\n",
              "          dataTable['output_type'] = 'display_data';\n",
              "          await google.colab.output.renderOutput(dataTable, element);\n",
              "          const docLink = document.createElement('div');\n",
              "          docLink.innerHTML = docLinkHtml;\n",
              "          element.appendChild(docLink);\n",
              "        }\n",
              "      </script>\n",
              "    </div>\n",
              "  </div>\n",
              "  "
            ]
          },
          "metadata": {},
          "execution_count": 21
        }
      ]
    },
    {
      "cell_type": "code",
      "source": [
        "#grab the last day for each simulation and get stats\n",
        "\n",
        "result['match'] = result.sim_run == result.sim_run.shift(-1)\n",
        "df_last_row = result[result['match'] == False]\n",
        "df_last_row.describe().T"
      ],
      "metadata": {
        "colab": {
          "base_uri": "https://localhost:8080/",
          "height": 551
        },
        "id": "08lDZn8cINur",
        "outputId": "dc306a58-a892-43e7-cd1e-ac67ccaa9a58"
      },
      "execution_count": 22,
      "outputs": [
        {
          "output_type": "execute_result",
          "data": {
            "text/plain": [
              "                                       count          mean            std  \\\n",
              "sim_run                               9999.0   5000.000000    2886.607005   \n",
              "day                                   9999.0    329.170217      23.047387   \n",
              "site                                  9999.0      0.800180       0.753916   \n",
              "refurb_d_avail                        9999.0  17398.294629  129617.822679   \n",
              "new_inv_start                         9999.0      0.000000       0.000000   \n",
              "refurb_inv_start                      9999.0      3.057606       1.733056   \n",
              "new_inv_end                           9999.0    -10.564256       1.590771   \n",
              "refurb_inv_end                        9999.0      2.057606       1.733056   \n",
              "refurb_run_use                        9999.0     -8.756876       1.762730   \n",
              "ra_logg_len                           9999.0     12.818882       2.202696   \n",
              "0                                     9999.0     -7.726073       2.392993   \n",
              "1                                     9999.0     -7.746775       2.394208   \n",
              "2                                     9999.0     -3.848285       1.853584   \n",
              "refurb_diff                           9999.0      1.000000       0.000000   \n",
              "running_new_inventory_positive_start  9999.0      0.435744       1.590771   \n",
              "total_inv                             9999.0      3.493349       1.852246   \n",
              "\n",
              "                                        min     25%     50%     75%        max  \n",
              "sim_run                                 1.0  2500.5  5000.0  7499.5     9999.0  \n",
              "day                                   301.0   301.0   331.0   351.0      365.0  \n",
              "site                                    0.0     0.0     1.0     1.0        2.0  \n",
              "refurb_d_avail                        158.0   297.0   310.0   311.0  1000000.0  \n",
              "new_inv_start                           0.0     0.0     0.0     0.0        0.0  \n",
              "refurb_inv_start                        1.0     2.0     3.0     4.0       12.0  \n",
              "new_inv_end                           -19.0   -12.0   -10.0    -9.0       -7.0  \n",
              "refurb_inv_end                          0.0     1.0     2.0     3.0       11.0  \n",
              "refurb_run_use                        -15.0   -10.0    -9.0    -7.0       -5.0  \n",
              "ra_logg_len                             8.0    11.0    13.0    14.0       22.0  \n",
              "0                                     -18.0    -9.0    -8.0    -6.0       -1.0  \n",
              "1                                     -18.0    -9.0    -8.0    -6.0       -1.0  \n",
              "2                                     -12.0    -5.0    -4.0    -3.0        0.0  \n",
              "refurb_diff                             1.0     1.0     1.0     1.0        1.0  \n",
              "running_new_inventory_positive_start   -8.0    -1.0     1.0     2.0        4.0  \n",
              "total_inv                              -5.0     2.0     4.0     5.0        7.0  "
            ],
            "text/html": [
              "\n",
              "  <div id=\"df-4309c768-53e6-4d2a-bca0-c20507e85c76\">\n",
              "    <div class=\"colab-df-container\">\n",
              "      <div>\n",
              "<style scoped>\n",
              "    .dataframe tbody tr th:only-of-type {\n",
              "        vertical-align: middle;\n",
              "    }\n",
              "\n",
              "    .dataframe tbody tr th {\n",
              "        vertical-align: top;\n",
              "    }\n",
              "\n",
              "    .dataframe thead th {\n",
              "        text-align: right;\n",
              "    }\n",
              "</style>\n",
              "<table border=\"1\" class=\"dataframe\">\n",
              "  <thead>\n",
              "    <tr style=\"text-align: right;\">\n",
              "      <th></th>\n",
              "      <th>count</th>\n",
              "      <th>mean</th>\n",
              "      <th>std</th>\n",
              "      <th>min</th>\n",
              "      <th>25%</th>\n",
              "      <th>50%</th>\n",
              "      <th>75%</th>\n",
              "      <th>max</th>\n",
              "    </tr>\n",
              "  </thead>\n",
              "  <tbody>\n",
              "    <tr>\n",
              "      <th>sim_run</th>\n",
              "      <td>9999.0</td>\n",
              "      <td>5000.000000</td>\n",
              "      <td>2886.607005</td>\n",
              "      <td>1.0</td>\n",
              "      <td>2500.5</td>\n",
              "      <td>5000.0</td>\n",
              "      <td>7499.5</td>\n",
              "      <td>9999.0</td>\n",
              "    </tr>\n",
              "    <tr>\n",
              "      <th>day</th>\n",
              "      <td>9999.0</td>\n",
              "      <td>329.170217</td>\n",
              "      <td>23.047387</td>\n",
              "      <td>301.0</td>\n",
              "      <td>301.0</td>\n",
              "      <td>331.0</td>\n",
              "      <td>351.0</td>\n",
              "      <td>365.0</td>\n",
              "    </tr>\n",
              "    <tr>\n",
              "      <th>site</th>\n",
              "      <td>9999.0</td>\n",
              "      <td>0.800180</td>\n",
              "      <td>0.753916</td>\n",
              "      <td>0.0</td>\n",
              "      <td>0.0</td>\n",
              "      <td>1.0</td>\n",
              "      <td>1.0</td>\n",
              "      <td>2.0</td>\n",
              "    </tr>\n",
              "    <tr>\n",
              "      <th>refurb_d_avail</th>\n",
              "      <td>9999.0</td>\n",
              "      <td>17398.294629</td>\n",
              "      <td>129617.822679</td>\n",
              "      <td>158.0</td>\n",
              "      <td>297.0</td>\n",
              "      <td>310.0</td>\n",
              "      <td>311.0</td>\n",
              "      <td>1000000.0</td>\n",
              "    </tr>\n",
              "    <tr>\n",
              "      <th>new_inv_start</th>\n",
              "      <td>9999.0</td>\n",
              "      <td>0.000000</td>\n",
              "      <td>0.000000</td>\n",
              "      <td>0.0</td>\n",
              "      <td>0.0</td>\n",
              "      <td>0.0</td>\n",
              "      <td>0.0</td>\n",
              "      <td>0.0</td>\n",
              "    </tr>\n",
              "    <tr>\n",
              "      <th>refurb_inv_start</th>\n",
              "      <td>9999.0</td>\n",
              "      <td>3.057606</td>\n",
              "      <td>1.733056</td>\n",
              "      <td>1.0</td>\n",
              "      <td>2.0</td>\n",
              "      <td>3.0</td>\n",
              "      <td>4.0</td>\n",
              "      <td>12.0</td>\n",
              "    </tr>\n",
              "    <tr>\n",
              "      <th>new_inv_end</th>\n",
              "      <td>9999.0</td>\n",
              "      <td>-10.564256</td>\n",
              "      <td>1.590771</td>\n",
              "      <td>-19.0</td>\n",
              "      <td>-12.0</td>\n",
              "      <td>-10.0</td>\n",
              "      <td>-9.0</td>\n",
              "      <td>-7.0</td>\n",
              "    </tr>\n",
              "    <tr>\n",
              "      <th>refurb_inv_end</th>\n",
              "      <td>9999.0</td>\n",
              "      <td>2.057606</td>\n",
              "      <td>1.733056</td>\n",
              "      <td>0.0</td>\n",
              "      <td>1.0</td>\n",
              "      <td>2.0</td>\n",
              "      <td>3.0</td>\n",
              "      <td>11.0</td>\n",
              "    </tr>\n",
              "    <tr>\n",
              "      <th>refurb_run_use</th>\n",
              "      <td>9999.0</td>\n",
              "      <td>-8.756876</td>\n",
              "      <td>1.762730</td>\n",
              "      <td>-15.0</td>\n",
              "      <td>-10.0</td>\n",
              "      <td>-9.0</td>\n",
              "      <td>-7.0</td>\n",
              "      <td>-5.0</td>\n",
              "    </tr>\n",
              "    <tr>\n",
              "      <th>ra_logg_len</th>\n",
              "      <td>9999.0</td>\n",
              "      <td>12.818882</td>\n",
              "      <td>2.202696</td>\n",
              "      <td>8.0</td>\n",
              "      <td>11.0</td>\n",
              "      <td>13.0</td>\n",
              "      <td>14.0</td>\n",
              "      <td>22.0</td>\n",
              "    </tr>\n",
              "    <tr>\n",
              "      <th>0</th>\n",
              "      <td>9999.0</td>\n",
              "      <td>-7.726073</td>\n",
              "      <td>2.392993</td>\n",
              "      <td>-18.0</td>\n",
              "      <td>-9.0</td>\n",
              "      <td>-8.0</td>\n",
              "      <td>-6.0</td>\n",
              "      <td>-1.0</td>\n",
              "    </tr>\n",
              "    <tr>\n",
              "      <th>1</th>\n",
              "      <td>9999.0</td>\n",
              "      <td>-7.746775</td>\n",
              "      <td>2.394208</td>\n",
              "      <td>-18.0</td>\n",
              "      <td>-9.0</td>\n",
              "      <td>-8.0</td>\n",
              "      <td>-6.0</td>\n",
              "      <td>-1.0</td>\n",
              "    </tr>\n",
              "    <tr>\n",
              "      <th>2</th>\n",
              "      <td>9999.0</td>\n",
              "      <td>-3.848285</td>\n",
              "      <td>1.853584</td>\n",
              "      <td>-12.0</td>\n",
              "      <td>-5.0</td>\n",
              "      <td>-4.0</td>\n",
              "      <td>-3.0</td>\n",
              "      <td>0.0</td>\n",
              "    </tr>\n",
              "    <tr>\n",
              "      <th>refurb_diff</th>\n",
              "      <td>9999.0</td>\n",
              "      <td>1.000000</td>\n",
              "      <td>0.000000</td>\n",
              "      <td>1.0</td>\n",
              "      <td>1.0</td>\n",
              "      <td>1.0</td>\n",
              "      <td>1.0</td>\n",
              "      <td>1.0</td>\n",
              "    </tr>\n",
              "    <tr>\n",
              "      <th>running_new_inventory_positive_start</th>\n",
              "      <td>9999.0</td>\n",
              "      <td>0.435744</td>\n",
              "      <td>1.590771</td>\n",
              "      <td>-8.0</td>\n",
              "      <td>-1.0</td>\n",
              "      <td>1.0</td>\n",
              "      <td>2.0</td>\n",
              "      <td>4.0</td>\n",
              "    </tr>\n",
              "    <tr>\n",
              "      <th>total_inv</th>\n",
              "      <td>9999.0</td>\n",
              "      <td>3.493349</td>\n",
              "      <td>1.852246</td>\n",
              "      <td>-5.0</td>\n",
              "      <td>2.0</td>\n",
              "      <td>4.0</td>\n",
              "      <td>5.0</td>\n",
              "      <td>7.0</td>\n",
              "    </tr>\n",
              "  </tbody>\n",
              "</table>\n",
              "</div>\n",
              "      <button class=\"colab-df-convert\" onclick=\"convertToInteractive('df-4309c768-53e6-4d2a-bca0-c20507e85c76')\"\n",
              "              title=\"Convert this dataframe to an interactive table.\"\n",
              "              style=\"display:none;\">\n",
              "        \n",
              "  <svg xmlns=\"http://www.w3.org/2000/svg\" height=\"24px\"viewBox=\"0 0 24 24\"\n",
              "       width=\"24px\">\n",
              "    <path d=\"M0 0h24v24H0V0z\" fill=\"none\"/>\n",
              "    <path d=\"M18.56 5.44l.94 2.06.94-2.06 2.06-.94-2.06-.94-.94-2.06-.94 2.06-2.06.94zm-11 1L8.5 8.5l.94-2.06 2.06-.94-2.06-.94L8.5 2.5l-.94 2.06-2.06.94zm10 10l.94 2.06.94-2.06 2.06-.94-2.06-.94-.94-2.06-.94 2.06-2.06.94z\"/><path d=\"M17.41 7.96l-1.37-1.37c-.4-.4-.92-.59-1.43-.59-.52 0-1.04.2-1.43.59L10.3 9.45l-7.72 7.72c-.78.78-.78 2.05 0 2.83L4 21.41c.39.39.9.59 1.41.59.51 0 1.02-.2 1.41-.59l7.78-7.78 2.81-2.81c.8-.78.8-2.07 0-2.86zM5.41 20L4 18.59l7.72-7.72 1.47 1.35L5.41 20z\"/>\n",
              "  </svg>\n",
              "      </button>\n",
              "      \n",
              "  <style>\n",
              "    .colab-df-container {\n",
              "      display:flex;\n",
              "      flex-wrap:wrap;\n",
              "      gap: 12px;\n",
              "    }\n",
              "\n",
              "    .colab-df-convert {\n",
              "      background-color: #E8F0FE;\n",
              "      border: none;\n",
              "      border-radius: 50%;\n",
              "      cursor: pointer;\n",
              "      display: none;\n",
              "      fill: #1967D2;\n",
              "      height: 32px;\n",
              "      padding: 0 0 0 0;\n",
              "      width: 32px;\n",
              "    }\n",
              "\n",
              "    .colab-df-convert:hover {\n",
              "      background-color: #E2EBFA;\n",
              "      box-shadow: 0px 1px 2px rgba(60, 64, 67, 0.3), 0px 1px 3px 1px rgba(60, 64, 67, 0.15);\n",
              "      fill: #174EA6;\n",
              "    }\n",
              "\n",
              "    [theme=dark] .colab-df-convert {\n",
              "      background-color: #3B4455;\n",
              "      fill: #D2E3FC;\n",
              "    }\n",
              "\n",
              "    [theme=dark] .colab-df-convert:hover {\n",
              "      background-color: #434B5C;\n",
              "      box-shadow: 0px 1px 3px 1px rgba(0, 0, 0, 0.15);\n",
              "      filter: drop-shadow(0px 1px 2px rgba(0, 0, 0, 0.3));\n",
              "      fill: #FFFFFF;\n",
              "    }\n",
              "  </style>\n",
              "\n",
              "      <script>\n",
              "        const buttonEl =\n",
              "          document.querySelector('#df-4309c768-53e6-4d2a-bca0-c20507e85c76 button.colab-df-convert');\n",
              "        buttonEl.style.display =\n",
              "          google.colab.kernel.accessAllowed ? 'block' : 'none';\n",
              "\n",
              "        async function convertToInteractive(key) {\n",
              "          const element = document.querySelector('#df-4309c768-53e6-4d2a-bca0-c20507e85c76');\n",
              "          const dataTable =\n",
              "            await google.colab.kernel.invokeFunction('convertToInteractive',\n",
              "                                                     [key], {});\n",
              "          if (!dataTable) return;\n",
              "\n",
              "          const docLinkHtml = 'Like what you see? Visit the ' +\n",
              "            '<a target=\"_blank\" href=https://colab.research.google.com/notebooks/data_table.ipynb>data table notebook</a>'\n",
              "            + ' to learn more about interactive tables.';\n",
              "          element.innerHTML = '';\n",
              "          dataTable['output_type'] = 'display_data';\n",
              "          await google.colab.output.renderOutput(dataTable, element);\n",
              "          const docLink = document.createElement('div');\n",
              "          docLink.innerHTML = docLinkHtml;\n",
              "          element.appendChild(docLink);\n",
              "        }\n",
              "      </script>\n",
              "    </div>\n",
              "  </div>\n",
              "  "
            ]
          },
          "metadata": {},
          "execution_count": 22
        }
      ]
    },
    {
      "cell_type": "markdown",
      "source": [
        "# Visualizations"
      ],
      "metadata": {
        "id": "vls0F1N70FDH"
      }
    },
    {
      "cell_type": "markdown",
      "source": [
        "## Demand Picture\n",
        "\n",
        "* 12 Units of Planned demand are scheduled for FY 23/24\n",
        "* Based on the avg unplanned demand rate of every 50 days a theoretical distribution of potential outcomes can be derived from a Poisson distribution.\n",
        "* One can see the simple avg would be around 7 to 8 but the distribution has signifigant spread 0 to upwards of 20 events in a year."
      ],
      "metadata": {
        "id": "HHbAUwwR0jLt"
      }
    },
    {
      "cell_type": "code",
      "source": [
        "#@title Unplanned Demand Distribution\n",
        "sns.set_style(\"darkgrid\")\n",
        "\n",
        "\n",
        "unplanned_demand_dist = np.random.poisson(365 / 50, 1000)\n",
        "# sns.kdeplot(unplanned_demand_dist, fill=True)\n",
        "sns.displot(unplanned_demand_dist, kde = True)\n",
        "plt.xlabel(\"Num of Unplanned Demand Events per Year\")\n",
        "plt.xticks(np.arange(0,20,1))\n",
        "plt.show()"
      ],
      "metadata": {
        "colab": {
          "base_uri": "https://localhost:8080/",
          "height": 383
        },
        "cellView": "form",
        "id": "NrOo_siL0HiH",
        "outputId": "5776a0f1-1cad-4f5b-d365-bd7739795cb7"
      },
      "execution_count": 23,
      "outputs": [
        {
          "output_type": "display_data",
          "data": {
            "text/plain": [
              "<Figure size 360x360 with 1 Axes>"
            ],
            "image/png": "[encoded data removed]"
          },
          "metadata": {}
        }
      ]
    },
    {
      "cell_type": "markdown",
      "source": [
        "## Simulation Results\n",
        "\n",
        "* The results of the 10,000 simulation runs shows that for all simulated total demand profiles 10 inital units can fulfill 80% of the demand.  Falling in close agreement to the naive approach of 11 units."
      ],
      "metadata": {
        "id": "3-gr-ws24S88"
      }
    },
    {
      "cell_type": "code",
      "source": [
        "#@title 80% Total Demand Threshold vs Number of Units in Starting Inventory\n",
        "\n",
        "sns.lineplot(x = mins['new_inv_end'], y = mins['cumsum'], marker = 'o')\n",
        "plt.axhline(.8, linestyle = '--', color = 'gray')\n",
        "plt.axvline(-10, linestyle = '--', color = 'gray')\n",
        "plt.show()"
      ],
      "metadata": {
        "colab": {
          "base_uri": "https://localhost:8080/",
          "height": 280
        },
        "cellView": "form",
        "id": "e_xrhJXU4-yd",
        "outputId": "19ad1697-2266-4d7a-8ae8-617029fc6d6e"
      },
      "execution_count": 24,
      "outputs": [
        {
          "output_type": "display_data",
          "data": {
            "text/plain": [
              "<Figure size 432x288 with 1 Axes>"
            ],
            "image/png": "[encoded data removed]"
          },
          "metadata": {}
        }
      ]
    },
    {
      "cell_type": "code",
      "source": [
        "#@title Avg Total Inventory Balance\n",
        "sns.boxplot(data = result['running_new_inventory_positive_start'], showmeans=True,meanprops={\"marker\":\"o\",\n",
        "                       \"markerfacecolor\":\"white\", \n",
        "                       \"markeredgecolor\":\"black\",\n",
        "                      \"markersize\":\"10\"})\n",
        "plt.xlabel(\"Avg Total Inventory\")\n",
        "plt.show()\n",
        "print(\"Avg Total Inventory Balance, via Simulation:\", round(result[\"running_new_inventory_positive_start\"].mean(),1))"
      ],
      "metadata": {
        "colab": {
          "base_uri": "https://localhost:8080/",
          "height": 297
        },
        "id": "QxLYNIp57CrG",
        "outputId": "685395e9-74c1-4f00-8b60-f29c7a3a4c48",
        "cellView": "form"
      },
      "execution_count": 25,
      "outputs": [
        {
          "output_type": "display_data",
          "data": {
            "text/plain": [
              "<Figure size 432x288 with 1 Axes>"
            ],
            "image/png": "[encoded data removed]"
          },
          "metadata": {}
        },
        {
          "output_type": "stream",
          "name": "stdout",
          "text": [
            "Avg Total Inventory Balance, via Simulation: 3.5\n"
          ]
        }
      ]
    },
    {
      "cell_type": "code",
      "source": [
        "#@title Likelihood of Refurbs Completed per Yr (via Simulation)\n",
        "\n",
        "num_of_refurbs = [df_last_row['refurb_run_use'].max() * -1,\n",
        "df_last_row['refurb_run_use'].mean() * -1,\n",
        "df_last_row['refurb_run_use'].min() * -1]\n",
        "\n",
        "\n",
        "sns.displot(data = df_last_row['refurb_run_use'])\n",
        "plt.xticks(np.arange(-15,-3,1))\n",
        "plt.xlabel(\"Likelihood of Refurbs Completed per Yr (via Simulation)\")\n",
        "plt.show()\n",
        "\n",
        "print(\"Mean Refurbs Observed:\", round(df_last_row['refurb_run_use'].mean() * -1,0))\n"
      ],
      "metadata": {
        "colab": {
          "base_uri": "https://localhost:8080/",
          "height": 386
        },
        "cellView": "form",
        "id": "wJ21O0jhDrwI",
        "outputId": "93baace2-6da8-40c8-e059-fdad5cab7a81"
      },
      "execution_count": 26,
      "outputs": [
        {
          "output_type": "display_data",
          "data": {
            "text/plain": [
              "<Figure size 360x360 with 1 Axes>"
            ],
            "image/png": "[encoded data removed]"
          },
          "metadata": {}
        },
        {
          "output_type": "stream",
          "name": "stdout",
          "text": [
            "Mean Refurbs Observed: 9.0\n"
          ]
        }
      ]
    },
    {
      "cell_type": "code",
      "source": [
        "#@title Boxplot of Yearly Demand per Site via Simulation\n",
        "\n",
        "df_sites = df_last_row[[0,1,2]]\n",
        "df_sites = df_sites.rename(columns={0: 'WA', 1: 'QLD', 2:'NSW'})\n",
        "sns.boxplot(data = df_sites, showmeans=True, meanprops={\"marker\":\"o\",\n",
        "                       \"markerfacecolor\":\"white\", \n",
        "                       \"markeredgecolor\":\"black\",\n",
        "                      \"markersize\":\"10\"})\n",
        "plt.show()"
      ],
      "metadata": {
        "id": "6-pOCD2HEefm",
        "colab": {
          "base_uri": "https://localhost:8080/",
          "height": 265
        },
        "cellView": "form",
        "outputId": "e0b89543-1588-4ec9-9891-b2f54afc9629"
      },
      "execution_count": 27,
      "outputs": [
        {
          "output_type": "display_data",
          "data": {
            "text/plain": [
              "<Figure size 432x288 with 1 Axes>"
            ],
            "image/png": "[encoded data removed]"
          },
          "metadata": {}
        }
      ]
    },
    {
      "cell_type": "markdown",
      "source": [
        "# Financials"
      ],
      "metadata": {
        "id": "iiFzF2kJbdzg"
      }
    },
    {
      "cell_type": "markdown",
      "source": [
        "## ROC Function"
      ],
      "metadata": {
        "id": "8EGS8WfkkslN"
      }
    },
    {
      "cell_type": "code",
      "source": [
        "def fin_calcs(new, unplanned, yearly_demand, rental_px = 55000, refurb_cost=50_000, cost_new = 1):\n",
        "\n",
        "  \"\"\"\n",
        "    Perform financial calculations to determine the return on assets (ROA) for a rental property.\n",
        "\n",
        "    Args:\n",
        "        new (int): The number of new properties purchased.\n",
        "        unplanned (list): A list of unplanned failure days, represented as integers.\n",
        "        yearly_demand (int): The expected yearly demand for the rental property.\n",
        "        rental_px (float, optional): The monthly rental price for each unit. Defaults to 55000.\n",
        "        refurb_cost (int, optional): The cost of refurbishing each unit. Defaults to 50000.\n",
        "        cost_new (int, optional): The cost of purchasing each new unit. Defaults to 1.\n",
        "\n",
        "    Returns:\n",
        "        float: The return on assets (ROA) for the rental property, rounded to 3 decimal places.\n",
        "\n",
        "    Example:\n",
        "        >>> unplanned_days = build_unplanned_days(0.1, 0, 20)\n",
        "        >>> fin_calcs(10, unplanned_days, 200, rental_px=50000, refurb_cost=60000, cost_new=2)\n",
        "        0.226\n",
        "  \"\"\"\n",
        "\n",
        "  \n",
        "  cost_new = new * cost_new\n",
        "  yearly_demand = yearly_demand\n",
        "  amount_refurb = yearly_demand - 10\n",
        "  asset_value = rental_px * new\n",
        "  \n",
        "  gross_income = rental_px * yearly_demand * 1.0\n",
        "  \n",
        "\n",
        "\n",
        "  cost_refurb = refurb_cost * amount_refurb\n",
        "  gross_costs = (cost_new + cost_refurb) * -1\n",
        "\n",
        "  net_income = gross_income + gross_costs\n",
        "\n",
        "  total_assets = new + asset_value + cost_refurb\n",
        "\n",
        "  roa = round(net_income / total_assets,3)\n",
        "\n",
        "  return roa\n"
      ],
      "metadata": {
        "id": "TIL9Y7wPcVaX"
      },
      "execution_count": 28,
      "outputs": []
    },
    {
      "cell_type": "code",
      "source": [
        "#@title ROC Output\n",
        "ROC = fin_calcs(new = 11,unplanned = 8,yearly_demand = 20, rental_px = 55000, refurb_cost=50000, cost_new = 1)\n",
        "print(\"{:.0%}\".format(ROC))"
      ],
      "metadata": {
        "colab": {
          "base_uri": "https://localhost:8080/"
        },
        "cellView": "form",
        "id": "jvIKQ2Nfgg_X",
        "outputId": "fc78c621-fff7-46d2-9a12-03c2290fc6f2"
      },
      "execution_count": 29,
      "outputs": [
        {
          "output_type": "stream",
          "name": "stdout",
          "text": [
            "54%\n"
          ]
        }
      ]
    },
    {
      "cell_type": "markdown",
      "source": [
        "## Return on Capital"
      ],
      "metadata": {
        "id": "n2qtr7pIbVMg"
      }
    },
    {
      "cell_type": "markdown",
      "source": [
        "**Assumptions:**\n",
        "\n",
        "Revenue per refurbished transmission = 55,000 (assuming rental price)\n",
        "\n",
        "Cost per refurbished transmission = 50,000 (refurbishing cost)\n",
        "\n",
        "Profit per refurbished transmission = 5,000\n",
        "\n",
        "Cost of Non-Rebuilt Stock = 1 (seems very low, but was given value)\n",
        "\n",
        "Refurbished units per year is roughly assumed to (total demand - 10), as it takes approx 2.5 months to recive and turn around on unit.\n",
        "<br></br>\n",
        "Number of New Units needed:  11 (10 + 1 safety stock unit)\n",
        "\n",
        "Unplanned units expected:  8\n",
        "\n",
        "Refurbished Units per year: 11\n",
        "\n",
        "\n",
        "---\n",
        "**Naive Approach**\n",
        "\n",
        "Cost of New Inventory = 1 * 11 = 11\n",
        "\n",
        "Cost of Refurbishing = 50,000 * 10 = 500,000\n",
        "\n",
        "Asset Value = 55,000 * 11 = 605,000\n",
        "\n",
        "Gross Income = 55,000 * 20 = 1,100,000\n",
        "\n",
        "Costs = 11 + 500,000 = 500,011\n",
        "\n",
        "Net Income = 1,100,000 - 500,011 = 599,989\n",
        "\n",
        "Total Assets: value of new + refurb inventory:  605,000 + 500,000 + 11 = 1,105,011\n",
        "\n",
        "ROA(ROC):  Net Income / Total Assets:  599,989 / 1,105,011 = **54.3%**\n",
        "\n",
        "\n",
        "\n",
        "\n"
      ],
      "metadata": {
        "id": "dXRcNY_kHDAO"
      }
    },
    {
      "cell_type": "markdown",
      "source": [
        "## Average Inventory Balance Over the Year\n",
        "\n",
        "\n",
        "---\n",
        "**Naive Approach**\n",
        "\n",
        "*  (Beginning Inventory + Ending Inventory) / 2\n",
        "\n",
        "Avg Balance = (11 initial units + (8 refurb units / 2 (for rotable nature))) / 2\n",
        "Avg Balance = (11 + 4) / 2 = **7.5 Units**"
      ],
      "metadata": {
        "id": "bUwtrUbBXCue"
      }
    },
    {
      "cell_type": "markdown",
      "source": [
        "# Further Work / Comments\n",
        "\n",
        "* An interactive section where non-technical users where they can use controls to look at various scenarios to dial in how much risk they want to take in determining inventory amounts.  This was omitted her due to cross compatibility issues with various versions of Jupyter and Python package conflicts which could not ensure functionality at interview time.\n",
        "* More shape can be giving to fluctuating shipping and turn around time schedules in the Naive case and in the simulation.  What is presented here should be close to worst case overall lead time scenarios.\n",
        "* In reality the inter arrival time between failures causing unplanned demand is probably NOT exponentially distrbuted.  This assumes complete time independence when in reality the longer a machine is without maintenance the more likely it is to fail.  Further modelling work with a distribution like Weibull or similar may be more accurate.\n",
        "* There could be more predictive work in determining roughly when to 'pre-ship' replacement units to a forward staging point closer to the sites- cutting down on shipping lead times for unplanned demand.\n",
        "* Overall I was very surprised how accurate the naive approach was using the normal distribution to fairly accurately assess demand profiles with limited information on lead time variance.\n",
        "* A lot of for-loops used in this, tried to use numpy processes where possible to enhance speed.  Potential for vectorization to run very fast if all parameters are pre-calculated.\n",
        "* If this project was expanded to real world use-case it would probably be best practices to use a Discreet Event Simulator like SimPy which would handle a lot of the underlying simulations environment variables and allow for a much more detailed analysis and what-if scenarios without having to constantly re-write the simulation loop."
      ],
      "metadata": {
        "id": "_jvAx4e_xE5n"
      }
    },
    {
      "cell_type": "code",
      "source": [
        "#@title Form for Naive Model\n",
        "\n",
        "planned_demand_slider = 12 #@param {type:\"slider\", min:0, max:25, step:1}\n",
        "\n",
        "unplanned_demand_slider = 15 #@param {type:\"slider\", min:0, max:25, step:1}\n",
        "\n",
        "\n",
        "form_total_demand = planned_demand_slider + unplanned_demand_slider\n",
        "form_rot_inv_naive = (form_total_demand / 2)\n",
        "\n",
        "\n",
        "# -------------------------------------------\n",
        "# the demand_var number is the sum of all increments in the poisson distribution above \n",
        "\n",
        "# METHOD 3safety stock calc\n",
        "# Z * sqrt(avg lead time / 365 days * .25 variability factor * rot inv)\n",
        "\n",
        "form_Z=  {80:.85, 90:1.28, 100:4.09}  # from Z-score table\n",
        "\n",
        "\n",
        "form_alpha = 80  #Select the area under the curve one wants to satisfy\n",
        "\n",
        "form_s_stock = form_Z[form_alpha]* np.sqrt(lead_avg / 365 * form_rot_inv_naive * .3)\n",
        "\n",
        "form_s_stock_max= form_Z[form_alpha] * np.sqrt(lead_max / 365 * form_rot_inv_naive * .3)\n",
        "\n",
        "\n",
        "#----------------------------------*\n",
        "\n",
        "form_total_inventory = (form_s_stock + form_rot_inv_naive)\n",
        "form_total_inventory_max = (form_s_stock_max + form_rot_inv_naive)\n",
        "\n",
        "bar_xs = ['Total Demand', 'Planned Demand', 'Unplanned Demand', 'Safety Stock', 'Starting Inventory']\n",
        "form_bar_list = [form_total_demand, planned_demand_slider, unplanned_demand_slider, \n",
        "                 np.ceil(form_s_stock_max), round(form_total_inventory_max, 0)]\n",
        "\n",
        "\n",
        "sns.barplot(x=bar_xs, y=form_bar_list)\n",
        "plt.xticks(rotation = 45)\n",
        "\n",
        "\n",
        "print(\"Planned Demand:\", planned_demand_slider)\n",
        "print(\"est. Unplanned Demand:\", unplanned_demand_slider)\n",
        "print(\"Total Demand:\",form_total_demand )\n",
        "print(\"\\nNaive Rotable Total Demand:\", form_rot_inv_naive)\n",
        "print(\"Safety Stock:\", np.ceil(form_s_stock_max))\n",
        "print(\"\\nTotal Starting Inventory:\", round(form_total_inventory_max, 0))\n",
        "print(\"\\n\")\n"
      ],
      "metadata": {
        "colab": {
          "base_uri": "https://localhost:8080/",
          "height": 518
        },
        "cellView": "form",
        "id": "hDDcxxGrjLyC",
        "outputId": "21fa092d-0b52-43cb-dde5-d21e566971c2"
      },
      "execution_count": 49,
      "outputs": [
        {
          "output_type": "stream",
          "name": "stdout",
          "text": [
            "Planned Demand: 12\n",
            "est. Unplanned Demand: 15\n",
            "Total Demand: 27\n",
            "\n",
            "Naive Rotable Total Demand: 13.5\n",
            "Safety Stock: 1.0\n",
            "\n",
            "Total Starting Inventory: 14.0\n",
            "\n",
            "\n"
          ]
        },
        {
          "output_type": "display_data",
          "data": {
            "text/plain": [
              "<Figure size 432x288 with 1 Axes>"
            ],
            "image/png": "[encoded data removed]"
          },
          "metadata": {}
        }
      ]
    }
  ]
}